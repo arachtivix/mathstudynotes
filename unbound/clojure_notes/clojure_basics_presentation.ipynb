{
 "cells": [
  {
   "cell_type": "markdown",
   "id": "89f56752",
   "metadata": {},
   "source": [
    "# Clojure is Lisp and Lisp is List Processing"
   ]
  },
  {
   "cell_type": "markdown",
   "id": "a0fa6559",
   "metadata": {},
   "source": [
    "Making a list.  This is an S expression with an operator and three arguments:"
   ]
  },
  {
   "cell_type": "code",
   "execution_count": 64,
   "id": "d5504a89",
   "metadata": {},
   "outputs": [
    {
     "data": {
      "text/plain": [
       "(1 2 3)"
      ]
     },
     "execution_count": 64,
     "metadata": {},
     "output_type": "execute_result"
    }
   ],
   "source": [
    "(list 1, 2, 3)"
   ]
  },
  {
   "cell_type": "markdown",
   "id": "1289f957",
   "metadata": {},
   "source": [
    "commas are whitespace"
   ]
  },
  {
   "cell_type": "code",
   "execution_count": 65,
   "id": "936a80c3",
   "metadata": {},
   "outputs": [
    {
     "data": {
      "text/plain": [
       "(1 2 3)"
      ]
     },
     "execution_count": 65,
     "metadata": {},
     "output_type": "execute_result"
    }
   ],
   "source": [
    "(list 1 2 3)"
   ]
  },
  {
   "cell_type": "markdown",
   "id": "4a8c7f16",
   "metadata": {},
   "source": [
    "function calls are just lists that start with a function"
   ]
  },
  {
   "cell_type": "code",
   "execution_count": 66,
   "id": "9e19390d",
   "metadata": {},
   "outputs": [
    {
     "data": {
      "text/plain": [
       "2"
      ]
     },
     "execution_count": 66,
     "metadata": {},
     "output_type": "execute_result"
    }
   ],
   "source": [
    "(+ 1 1)"
   ]
  },
  {
   "cell_type": "markdown",
   "id": "c94ee5f7",
   "metadata": {},
   "source": [
    "list literals"
   ]
  },
  {
   "cell_type": "code",
   "execution_count": 67,
   "id": "2b7b976e",
   "metadata": {},
   "outputs": [
    {
     "data": {
      "text/plain": [
       "(+ 1 1)"
      ]
     },
     "execution_count": 67,
     "metadata": {},
     "output_type": "execute_result"
    }
   ],
   "source": [
    "'(+ 1 1)"
   ]
  },
  {
   "cell_type": "code",
   "execution_count": 68,
   "id": "6e43f9d5",
   "metadata": {},
   "outputs": [
    {
     "data": {
      "text/plain": [
       "clojure.lang.PersistentList"
      ]
     },
     "execution_count": 68,
     "metadata": {},
     "output_type": "execute_result"
    }
   ],
   "source": [
    "(type '(+ 1 1))"
   ]
  },
  {
   "cell_type": "code",
   "execution_count": 69,
   "id": "28069936",
   "metadata": {},
   "outputs": [
    {
     "data": {
      "text/plain": [
       "+"
      ]
     },
     "execution_count": 69,
     "metadata": {},
     "output_type": "execute_result"
    }
   ],
   "source": [
    "(first '(+ 1 1))"
   ]
  },
  {
   "cell_type": "code",
   "execution_count": 70,
   "id": "66365ebe",
   "metadata": {},
   "outputs": [
    {
     "data": {
      "text/plain": [
       "clojure.lang.Symbol"
      ]
     },
     "execution_count": 70,
     "metadata": {},
     "output_type": "execute_result"
    }
   ],
   "source": [
    "(type (first '(+ 1 1)))"
   ]
  },
  {
   "cell_type": "code",
   "execution_count": 71,
   "id": "22726856",
   "metadata": {},
   "outputs": [
    {
     "data": {
      "text/plain": [
       "clojure.lang.Keyword"
      ]
     },
     "execution_count": 71,
     "metadata": {},
     "output_type": "execute_result"
    }
   ],
   "source": [
    "(type :yo)"
   ]
  },
  {
   "cell_type": "code",
   "execution_count": 72,
   "id": "8b30f43f",
   "metadata": {},
   "outputs": [
    {
     "data": {
      "text/plain": [
       "2"
      ]
     },
     "execution_count": 72,
     "metadata": {},
     "output_type": "execute_result"
    }
   ],
   "source": [
    "(eval '(+ 1 1))"
   ]
  },
  {
   "cell_type": "code",
   "execution_count": 73,
   "id": "1512a882",
   "metadata": {},
   "outputs": [
    {
     "data": {
      "text/plain": [
       "2"
      ]
     },
     "execution_count": 73,
     "metadata": {},
     "output_type": "execute_result"
    }
   ],
   "source": [
    "(eval (list + 1 1))"
   ]
  },
  {
   "cell_type": "code",
   "execution_count": 74,
   "id": "f93c2135",
   "metadata": {},
   "outputs": [
    {
     "data": {
      "text/plain": [
       "clojure.core$_PLUS_"
      ]
     },
     "execution_count": 74,
     "metadata": {},
     "output_type": "execute_result"
    }
   ],
   "source": [
    "(type (first (list + 1 1)))"
   ]
  },
  {
   "cell_type": "markdown",
   "id": "9123886e",
   "metadata": {},
   "source": [
    "# Key terms"
   ]
  },
  {
   "cell_type": "markdown",
   "id": "4740a731",
   "metadata": {},
   "source": [
    "## Arity"
   ]
  },
  {
   "cell_type": "code",
   "execution_count": 75,
   "id": "30a42ad4",
   "metadata": {},
   "outputs": [
    {
     "name": "stdout",
     "output_type": "stream",
     "text": [
      "whoa you just put in carrots and potatoes\n"
     ]
    },
    {
     "data": {
      "text/plain": [
       "nil"
      ]
     },
     "execution_count": 75,
     "metadata": {},
     "output_type": "execute_result"
    }
   ],
   "source": [
    "(defn my-fancy-function [arg1 arg2] (println \"whoa you just put in\" arg1 \"and\" arg2))\n",
    "(my-fancy-function \"carrots\" \"potatoes\")"
   ]
  },
  {
   "cell_type": "code",
   "execution_count": 76,
   "id": "8708625f",
   "metadata": {},
   "outputs": [
    {
     "name": "stderr",
     "output_type": "stream",
     "text": [
      "Execution error (ArityException) at cutcake.core/eval6568 (REPL:1).\n",
      "Wrong number of args (3) passed to: cutcake.core/my-fancy-function\n"
     ]
    },
    {
     "ename": "class clojure.lang.ArityException",
     "evalue": "",
     "output_type": "error",
     "traceback": []
    }
   ],
   "source": [
    "(my-fancy-function \"carrots\" \"potatoes\" \"beets\")"
   ]
  },
  {
   "cell_type": "markdown",
   "id": "e56ffbd0",
   "metadata": {},
   "source": [
    "arity is just the count of arguments allowable for a function"
   ]
  },
  {
   "cell_type": "markdown",
   "id": "f6f8c677",
   "metadata": {},
   "source": [
    "## Destructuring"
   ]
  },
  {
   "cell_type": "code",
   "execution_count": 77,
   "id": "9a231f61",
   "metadata": {},
   "outputs": [
    {
     "data": {
      "text/plain": [
       "#'cutcake.core/pythagoras1"
      ]
     },
     "execution_count": 77,
     "metadata": {},
     "output_type": "execute_result"
    }
   ],
   "source": [
    "(ns cutcake.core\n",
    "  (:require [clojure.math :as math]))\n",
    "\n",
    "(defn pythagoras1 [p1 p2]\n",
    "    (let [x1 (get p1 0)\n",
    "          y1 (get p1 1)\n",
    "          x2 (get p2 0)\n",
    "          y2 (get p2 1)\n",
    "          dx (- x1 x2)\n",
    "          dy (- y1 y2)]\n",
    "        (math/sqrt (+ (* dx dx) (* dy dy)))))"
   ]
  },
  {
   "cell_type": "code",
   "execution_count": 78,
   "id": "b4145cde",
   "metadata": {},
   "outputs": [
    {
     "data": {
      "text/plain": [
       "5.0"
      ]
     },
     "execution_count": 78,
     "metadata": {},
     "output_type": "execute_result"
    }
   ],
   "source": [
    "(pythagoras1 [1 1] [4 5])"
   ]
  },
  {
   "cell_type": "code",
   "execution_count": 79,
   "id": "016118b8",
   "metadata": {},
   "outputs": [
    {
     "data": {
      "text/plain": [
       "#'cutcake.core/pythagoras2"
      ]
     },
     "execution_count": 79,
     "metadata": {},
     "output_type": "execute_result"
    }
   ],
   "source": [
    "(defn pythagoras2 [[x1 y1] [x2 y2]]\n",
    "    (let [dx (- x1 x2)\n",
    "          dy (- y1 y2)]\n",
    "        (math/sqrt (+ (* dx dx) (* dy dy)))))"
   ]
  },
  {
   "cell_type": "code",
   "execution_count": 80,
   "id": "8532130f",
   "metadata": {},
   "outputs": [
    {
     "data": {
      "text/plain": [
       "1.4142135623730951"
      ]
     },
     "execution_count": 80,
     "metadata": {},
     "output_type": "execute_result"
    }
   ],
   "source": [
    "(pythagoras2 [1 2] [2 3])"
   ]
  },
  {
   "cell_type": "markdown",
   "id": "e5c6e3d4",
   "metadata": {},
   "source": [
    "What about parts of the input vectors not mentioned in destructured arguments?  Ignored"
   ]
  },
  {
   "cell_type": "code",
   "execution_count": 81,
   "id": "06201a83",
   "metadata": {},
   "outputs": [
    {
     "data": {
      "text/plain": [
       "1.4142135623730951"
      ]
     },
     "execution_count": 81,
     "metadata": {},
     "output_type": "execute_result"
    }
   ],
   "source": [
    "(pythagoras2 [1 2 3] [2 3 4])"
   ]
  },
  {
   "cell_type": "markdown",
   "id": "efdb9f02",
   "metadata": {},
   "source": [
    "How to refer to the parts of a vector input of some arbitrary size beyond the expected:"
   ]
  },
  {
   "cell_type": "code",
   "execution_count": 82,
   "id": "effaed34",
   "metadata": {},
   "outputs": [
    {
     "data": {
      "text/plain": [
       "#'cutcake.core/pythagoras3"
      ]
     },
     "execution_count": 82,
     "metadata": {},
     "output_type": "execute_result"
    }
   ],
   "source": [
    "(defn pythagoras3 [[x1 y1 & extra-bits1] [x2 y2 & extra-bits2]]\n",
    "    (let [dx (- x1 x2)\n",
    "          dy (- y1 y2)]\n",
    "        (cond \n",
    "            (some? extra-bits1) (str \"whoa what is this \" (str extra-bits1) \" on p1?\")\n",
    "            (some? extra-bits2) (str \"whoa what is this \" (str extra-bits2) \" on p2?\")\n",
    "            :else (math/sqrt (+ (* dx dx) (* dy dy))))))"
   ]
  },
  {
   "cell_type": "code",
   "execution_count": 83,
   "id": "233c1fd8",
   "metadata": {
    "scrolled": true
   },
   "outputs": [
    {
     "data": {
      "text/plain": [
       "\"whoa what is this (3) on p1?\""
      ]
     },
     "execution_count": 83,
     "metadata": {},
     "output_type": "execute_result"
    }
   ],
   "source": [
    "(pythagoras3 [1 2 3] [2 3])"
   ]
  },
  {
   "cell_type": "code",
   "execution_count": 84,
   "id": "1ea6f6f5",
   "metadata": {},
   "outputs": [
    {
     "data": {
      "text/plain": [
       "\"whoa what is this (4 5 6) on p2?\""
      ]
     },
     "execution_count": 84,
     "metadata": {},
     "output_type": "execute_result"
    }
   ],
   "source": [
    "(pythagoras3 [1 2] [2 3 4 5 6])"
   ]
  },
  {
   "cell_type": "markdown",
   "id": "da7f288e",
   "metadata": {},
   "source": [
    "The function now knows about the extra bits, but now the extra bits are lists?"
   ]
  },
  {
   "cell_type": "code",
   "execution_count": 85,
   "id": "2d1446c5",
   "metadata": {},
   "outputs": [
    {
     "data": {
      "text/plain": [
       "1.4142135623730951"
      ]
     },
     "execution_count": 85,
     "metadata": {},
     "output_type": "execute_result"
    }
   ],
   "source": [
    "(pythagoras3 [1 2] [2 3])"
   ]
  },
  {
   "cell_type": "markdown",
   "id": "8482dbfe",
   "metadata": {},
   "source": [
    "## Homoiconicity"
   ]
  },
  {
   "cell_type": "code",
   "execution_count": null,
   "id": "36f2a071",
   "metadata": {},
   "outputs": [],
   "source": []
  },
  {
   "cell_type": "markdown",
   "id": "fc8988a2",
   "metadata": {},
   "source": [
    "## Persistent data structures and structural sharing\n",
    "vectors are immutable"
   ]
  },
  {
   "cell_type": "code",
   "execution_count": 86,
   "id": "3c386628",
   "metadata": {},
   "outputs": [
    {
     "data": {
      "text/plain": [
       "#'cutcake.core/my-vec"
      ]
     },
     "execution_count": 86,
     "metadata": {},
     "output_type": "execute_result"
    }
   ],
   "source": [
    "(def my-vec (vector 1 2 3))"
   ]
  },
  {
   "cell_type": "markdown",
   "id": "dbee18f2",
   "metadata": {},
   "source": [
    "`my-vec` is a reference to a vector"
   ]
  },
  {
   "cell_type": "code",
   "execution_count": 87,
   "id": "b0933138",
   "metadata": {},
   "outputs": [
    {
     "data": {
      "text/plain": [
       "[1 2 3]"
      ]
     },
     "execution_count": 87,
     "metadata": {},
     "output_type": "execute_result"
    }
   ],
   "source": [
    "my-vec"
   ]
  },
  {
   "cell_type": "markdown",
   "id": "24a184f4",
   "metadata": {},
   "source": [
    "we can get a new reference `my-vec-2` for a vector with a different value in positon 0"
   ]
  },
  {
   "cell_type": "code",
   "execution_count": 88,
   "id": "7a83d81b",
   "metadata": {},
   "outputs": [
    {
     "data": {
      "text/plain": [
       "#'cutcake.core/my-vec-2"
      ]
     },
     "execution_count": 88,
     "metadata": {},
     "output_type": "execute_result"
    }
   ],
   "source": [
    "(def my-vec-2 (assoc my-vec 0 4))"
   ]
  },
  {
   "cell_type": "code",
   "execution_count": 89,
   "id": "459869f8",
   "metadata": {},
   "outputs": [
    {
     "data": {
      "text/plain": [
       "[4 2 3]"
      ]
     },
     "execution_count": 89,
     "metadata": {},
     "output_type": "execute_result"
    }
   ],
   "source": [
    "my-vec-2"
   ]
  },
  {
   "cell_type": "markdown",
   "id": "30132846",
   "metadata": {},
   "source": [
    "but `my-vec` has not been updated"
   ]
  },
  {
   "cell_type": "code",
   "execution_count": 90,
   "id": "f9c3fbea",
   "metadata": {},
   "outputs": [
    {
     "data": {
      "text/plain": [
       "[1 2 3]"
      ]
     },
     "execution_count": 90,
     "metadata": {},
     "output_type": "execute_result"
    }
   ],
   "source": [
    "my-vec"
   ]
  },
  {
   "cell_type": "markdown",
   "id": "97d7d57f",
   "metadata": {},
   "source": [
    "# Functional Programming"
   ]
  },
  {
   "cell_type": "markdown",
   "id": "fe089002",
   "metadata": {},
   "source": [
    "Clojure was designed with functional programming in mind.  Functional programming features \"pure\" functions and treats functions as entities that can be passed around by reference.  Pure functions:\n",
    "* have outputs strictly determined by their inputs\n",
    "* have no side effects"
   ]
  },
  {
   "cell_type": "markdown",
   "id": "21a0b6a1",
   "metadata": {},
   "source": [
    "Functional programming seeks to constrain the usage of assignment.  -- Robert C. Martin \"Uncle Bob\"\n",
    "\n",
    "Below are several ways to add numbers in a sequence.  Each deals with the constraint on assignment in a different way and some are better than others."
   ]
  },
  {
   "cell_type": "code",
   "execution_count": 91,
   "id": "b4f1b2f1",
   "metadata": {},
   "outputs": [
    {
     "data": {
      "text/plain": [
       "55"
      ]
     },
     "execution_count": 91,
     "metadata": {},
     "output_type": "execute_result"
    }
   ],
   "source": [
    "(+ 1 2 3 4 5 6 7 8 9 10)"
   ]
  },
  {
   "cell_type": "markdown",
   "id": "c288c6be",
   "metadata": {},
   "source": [
    "does the same as above, except it feels fancier:"
   ]
  },
  {
   "cell_type": "code",
   "execution_count": 92,
   "id": "af406f70",
   "metadata": {},
   "outputs": [
    {
     "data": {
      "text/plain": [
       "55"
      ]
     },
     "execution_count": 92,
     "metadata": {},
     "output_type": "execute_result"
    }
   ],
   "source": [
    "(apply + (range 1 11))"
   ]
  },
  {
   "cell_type": "code",
   "execution_count": 93,
   "id": "c686b1cc",
   "metadata": {},
   "outputs": [
    {
     "data": {
      "text/plain": [
       "499999500000"
      ]
     },
     "execution_count": 93,
     "metadata": {},
     "output_type": "execute_result"
    }
   ],
   "source": [
    "(apply + (range 1 1000000))"
   ]
  },
  {
   "cell_type": "markdown",
   "id": "7a6ec5ad",
   "metadata": {},
   "source": [
    "Recursion a common and is often the most readable (although not in this case):"
   ]
  },
  {
   "cell_type": "code",
   "execution_count": 94,
   "id": "6be74a89",
   "metadata": {},
   "outputs": [
    {
     "data": {
      "text/plain": [
       "#'cutcake.core/tricky"
      ]
     },
     "execution_count": 94,
     "metadata": {},
     "output_type": "execute_result"
    }
   ],
   "source": [
    "(defn tricky\n",
    "    [n up-to-excl]\n",
    "    (if (>= n up-to-excl) 0\n",
    "        (+ n (tricky (+ 1 n) up-to-excl))))"
   ]
  },
  {
   "cell_type": "code",
   "execution_count": 95,
   "id": "22f06d3b",
   "metadata": {},
   "outputs": [
    {
     "data": {
      "text/plain": [
       "55"
      ]
     },
     "execution_count": 95,
     "metadata": {},
     "output_type": "execute_result"
    }
   ],
   "source": [
    "(tricky 1 11)"
   ]
  },
  {
   "cell_type": "markdown",
   "id": "2f56d89e",
   "metadata": {},
   "source": [
    "but the form above is flawed, as it is still vulnerable to stack overflow:"
   ]
  },
  {
   "cell_type": "code",
   "execution_count": 96,
   "id": "4c90dc34",
   "metadata": {},
   "outputs": [
    {
     "name": "stderr",
     "output_type": "stream",
     "text": [
      "Execution error (StackOverflowError) at cutcake.core/tricky (REPL:3).\n",
      "null\n"
     ]
    },
    {
     "ename": "class java.lang.StackOverflowError",
     "evalue": "",
     "output_type": "error",
     "traceback": [
      "Numbers.java:   265 clojure.lang.Numbers/gte"
     ]
    }
   ],
   "source": [
    "(tricky 1 1000000)"
   ]
  },
  {
   "cell_type": "markdown",
   "id": "ae2692b4",
   "metadata": {},
   "source": [
    "Clojure can do tail recursion, but you have to tell it to do so.  Often it will require some rethinking of your recursion:"
   ]
  },
  {
   "cell_type": "code",
   "execution_count": 97,
   "id": "4714360f",
   "metadata": {
    "scrolled": true
   },
   "outputs": [
    {
     "data": {
      "text/plain": [
       "#'cutcake.core/tricky2"
      ]
     },
     "execution_count": 97,
     "metadata": {},
     "output_type": "execute_result"
    }
   ],
   "source": [
    "(defn tricky2\n",
    "    [n running-total up-to-excl]\n",
    "    (if (>= n up-to-excl) running-total\n",
    "        (recur (+ n 1) (+ running-total n) up-to-excl)))"
   ]
  },
  {
   "cell_type": "markdown",
   "id": "2176d311",
   "metadata": {},
   "source": [
    "For (recur) to work, it must be the last statement in your function.  Some special forms like (if) can wrap the whole thing, but many forms will prevent tail recursion if they are the top layer on a recursive call."
   ]
  },
  {
   "cell_type": "code",
   "execution_count": 98,
   "id": "df0c0017",
   "metadata": {},
   "outputs": [
    {
     "data": {
      "text/plain": [
       "45"
      ]
     },
     "execution_count": 98,
     "metadata": {},
     "output_type": "execute_result"
    }
   ],
   "source": [
    "(tricky2 1 0 10)"
   ]
  },
  {
   "cell_type": "code",
   "execution_count": 99,
   "id": "897b2997",
   "metadata": {},
   "outputs": [
    {
     "data": {
      "text/plain": [
       "499999500000"
      ]
     },
     "execution_count": 99,
     "metadata": {},
     "output_type": "execute_result"
    }
   ],
   "source": [
    "(tricky2 1 0 1000000)"
   ]
  },
  {
   "cell_type": "markdown",
   "id": "4cd289fd",
   "metadata": {},
   "source": [
    "Note that we had to reformulate tricky2 because (recur) needs to be the last statement in the function.  Here's what happens when we try to (recur) with the earlier formulation:"
   ]
  },
  {
   "cell_type": "code",
   "execution_count": 100,
   "id": "00e31fa7",
   "metadata": {},
   "outputs": [
    {
     "name": "stderr",
     "output_type": "stream",
     "text": [
      "Syntax error (UnsupportedOperationException) compiling recur at (REPL:4:14).\n",
      "Can only recur from tail position\n"
     ]
    },
    {
     "ename": "class clojure.lang.Compiler$CompilerException",
     "evalue": "",
     "output_type": "error",
     "traceback": []
    }
   ],
   "source": [
    "(defn tricky\n",
    "    [n up-to-excl]\n",
    "    (if (>= n up-to-excl) 0\n",
    "        (+ n (recur (+ 1 n) up-to-excl))))"
   ]
  },
  {
   "cell_type": "markdown",
   "id": "a9cc828f",
   "metadata": {},
   "source": [
    "The tail recursion and apply approaches above work for most situations, but these still end up requiring clojure to keep all the numbers in the sequence in memory, either as stack frames or as a list of arguments for a single + call.  On the other hand (reduce) can maintain something more like the memory profile we are accustomed to:"
   ]
  },
  {
   "cell_type": "code",
   "execution_count": 101,
   "id": "81bcb04c",
   "metadata": {},
   "outputs": [
    {
     "data": {
      "text/plain": [
       "55"
      ]
     },
     "execution_count": 101,
     "metadata": {},
     "output_type": "execute_result"
    }
   ],
   "source": [
    "(reduce + (range 1 11))"
   ]
  },
  {
   "cell_type": "markdown",
   "id": "bca685a2",
   "metadata": {},
   "source": [
    "This is equivalent to"
   ]
  },
  {
   "cell_type": "code",
   "execution_count": 102,
   "id": "305962a1",
   "metadata": {},
   "outputs": [
    {
     "data": {
      "text/plain": [
       "55"
      ]
     },
     "execution_count": 102,
     "metadata": {},
     "output_type": "execute_result"
    }
   ],
   "source": [
    "(+ (+ (+ (+ (+ (+ (+ (+ (+ 1 2) 3) 4) 5) 6) 7) 8) 9) 10)"
   ]
  },
  {
   "cell_type": "markdown",
   "id": "23165873",
   "metadata": {},
   "source": [
    "except that each output is rolled forward and the used sequence input can be discarded"
   ]
  },
  {
   "cell_type": "code",
   "execution_count": 103,
   "id": "d992abde",
   "metadata": {
    "scrolled": true
   },
   "outputs": [
    {
     "data": {
      "text/plain": [
       "499999500000"
      ]
     },
     "execution_count": 103,
     "metadata": {},
     "output_type": "execute_result"
    }
   ],
   "source": [
    "(reduce + (range 1 1000000))"
   ]
  },
  {
   "cell_type": "markdown",
   "id": "faad4e7a",
   "metadata": {},
   "source": [
    "## The seq abstraction\n",
    "### three operations required for implemenation of seq and you can apply tons of functions\n",
    "\n",
    "https://clojure.org/reference/sequences\n",
    "\n",
    "### (reduce f val coll)\n",
    "see slide for expansion\n",
    "\n",
    "The docs are full of very useful and interesting examples.  See https://clojuredocs.org/clojure.core/reduce where this was found:"
   ]
  },
  {
   "cell_type": "code",
   "execution_count": 104,
   "id": "cb2d4680",
   "metadata": {
    "scrolled": true
   },
   "outputs": [
    {
     "data": {
      "text/plain": [
       "[2 3 5 7 11 13 17 19 23 29 31 37 41 43 47 53 59 61 67 71 73 79 83 89 97 101 103 107 109 113 127 131 137 139 149 151 157 163 167 173 179 181 191 193 197 199 211 223 227 229 233 239 241 251 257 263 269 271 277 281 283 293 307 311 313 317 331 337 347 349 353 359 367 373 379 383 389 397 401 409 419 421 431 433 439 443 449 457 461 463 467 479 487 491 499 503 509 521 523 541 547 557 563 569 571 577 587 593 599 601 607 613 617 619 631 641 643 647 653 659 661 673 677 683 691 701 709 719 727 733 739 743 751 757 761 769 773 787 797 809 811 821 823 827 829 839 853 857 859 863 877 881 883 887 907 911 919 929 937 941 947 953 967 971 977 983 991 997]"
      ]
     },
     "execution_count": 104,
     "metadata": {},
     "output_type": "execute_result"
    }
   ],
   "source": [
    "(reduce\n",
    "  (fn [primes number]\n",
    "    (if (some zero? (map (partial mod number) primes))\n",
    "      primes\n",
    "      (conj primes number)))\n",
    "  [2]\n",
    "  (take 1000 (iterate inc 3)))"
   ]
  },
  {
   "cell_type": "markdown",
   "id": "e8418a85",
   "metadata": {},
   "source": [
    "### (map f coll)"
   ]
  },
  {
   "cell_type": "code",
   "execution_count": 105,
   "id": "c074f46e",
   "metadata": {},
   "outputs": [
    {
     "data": {
      "text/plain": [
       "(2 3 4)"
      ]
     },
     "execution_count": 105,
     "metadata": {},
     "output_type": "execute_result"
    }
   ],
   "source": [
    "(map inc [1 2 3])"
   ]
  },
  {
   "cell_type": "code",
   "execution_count": 106,
   "id": "d7107d2a",
   "metadata": {},
   "outputs": [
    {
     "data": {
      "text/plain": [
       "([\"a\" 1] [\"b\" 2] [\"c\" 3])"
      ]
     },
     "execution_count": 106,
     "metadata": {},
     "output_type": "execute_result"
    }
   ],
   "source": [
    "(map vector [\"a\" \"b\" \"c\"] [1 2 3])"
   ]
  },
  {
   "cell_type": "markdown",
   "id": "4f4cddc5",
   "metadata": {},
   "source": [
    "## Let's take another look at Pythagoras"
   ]
  },
  {
   "cell_type": "markdown",
   "id": "fd2b1440",
   "metadata": {},
   "source": [
    "Given sequence $\\alpha$ and sequence $\\beta$, representing $p_1$ and $p_2$ respectively\n",
    "\n",
    "$pythag(\\alpha,\\beta) = \\sqrt{\\sum_{k} (\\alpha_k - \\beta_k)^2}$\n",
    "\n",
    "where when a given sequence is not defined at $k$ we can interpret it as being 0"
   ]
  },
  {
   "cell_type": "markdown",
   "id": "c08eddbc",
   "metadata": {},
   "source": [
    "### $\\alpha_k - \\beta_k$"
   ]
  },
  {
   "cell_type": "code",
   "execution_count": 107,
   "id": "7a93ffb3",
   "metadata": {},
   "outputs": [
    {
     "data": {
      "text/plain": [
       "-1"
      ]
     },
     "execution_count": 107,
     "metadata": {},
     "output_type": "execute_result"
    }
   ],
   "source": [
    "(def p1 [1 2 3])\n",
    "(def p2 [2 3])\n",
    "(defn delta-maybe [d1 d2] (- d1 d2))\n",
    "(delta-maybe (get p1 1) (get p2 1))"
   ]
  },
  {
   "cell_type": "code",
   "execution_count": 108,
   "id": "0bb7afe0",
   "metadata": {},
   "outputs": [
    {
     "name": "stderr",
     "output_type": "stream",
     "text": [
      "Execution error (NullPointerException) at cutcake.core/delta-maybe (REPL:3).\n",
      "Cannot invoke \"Object.getClass()\" because \"x\" is null\n"
     ]
    },
    {
     "ename": "class java.lang.NullPointerException",
     "evalue": "",
     "output_type": "error",
     "traceback": [
      "Numbers.java:  1095 clojure.lang.Numbers/ops",
      "Numbers.java:   163 clojure.lang.Numbers/minus"
     ]
    }
   ],
   "source": [
    "(delta-maybe (get p1 2) (get p2 2))"
   ]
  },
  {
   "cell_type": "code",
   "execution_count": 109,
   "id": "55f7c7c9",
   "metadata": {},
   "outputs": [
    {
     "data": {
      "text/plain": [
       "#'cutcake.core/delta-resilient"
      ]
     },
     "execution_count": 109,
     "metadata": {},
     "output_type": "execute_result"
    }
   ],
   "source": [
    "(defn delta-resilient [d1 d2]\n",
    "    (cond (nil? d1) (* -1 d2)\n",
    "          (nil? d2) d1\n",
    "          :else (- d1 d2)))"
   ]
  },
  {
   "cell_type": "code",
   "execution_count": 110,
   "id": "8f868e7c",
   "metadata": {
    "scrolled": true
   },
   "outputs": [
    {
     "data": {
      "text/plain": [
       "3"
      ]
     },
     "execution_count": 110,
     "metadata": {},
     "output_type": "execute_result"
    }
   ],
   "source": [
    "(delta-resilient (get p1 2) (get p2 2))"
   ]
  },
  {
   "cell_type": "markdown",
   "id": "b0d5319b",
   "metadata": {},
   "source": [
    "### $(\\alpha_k - \\beta_k)^2$"
   ]
  },
  {
   "cell_type": "code",
   "execution_count": 111,
   "id": "48b02450",
   "metadata": {
    "scrolled": true
   },
   "outputs": [
    {
     "data": {
      "text/plain": [
       "#'cutcake.core/delta-squared"
      ]
     },
     "execution_count": 111,
     "metadata": {},
     "output_type": "execute_result"
    }
   ],
   "source": [
    "(defn squared [n] (* n n))\n",
    "(def delta-squared (comp squared delta-resilient))"
   ]
  },
  {
   "cell_type": "code",
   "execution_count": 112,
   "id": "eb4b6897",
   "metadata": {},
   "outputs": [
    {
     "data": {
      "text/plain": [
       "9"
      ]
     },
     "execution_count": 112,
     "metadata": {},
     "output_type": "execute_result"
    }
   ],
   "source": [
    "(delta-squared 1 4)"
   ]
  },
  {
   "cell_type": "markdown",
   "id": "a585aa58",
   "metadata": {},
   "source": [
    "### $\\sum_{k} (\\alpha_k - \\beta_k)^2$ sum of squares"
   ]
  },
  {
   "cell_type": "code",
   "execution_count": 113,
   "id": "389b2faf",
   "metadata": {},
   "outputs": [
    {
     "data": {
      "text/plain": [
       "#'cutcake.core/sum-of-squares"
      ]
     },
     "execution_count": 113,
     "metadata": {},
     "output_type": "execute_result"
    }
   ],
   "source": [
    "(defn sum-of-squares [p1 p2]\n",
    "    (apply + (map \n",
    "              #(delta-squared (get p1 %) (get p2 %)) \n",
    "              (range (max (count p1) (count p2))))))"
   ]
  },
  {
   "cell_type": "code",
   "execution_count": 114,
   "id": "1b3b8c8d",
   "metadata": {},
   "outputs": [
    {
     "data": {
      "text/plain": [
       "3"
      ]
     },
     "execution_count": 114,
     "metadata": {},
     "output_type": "execute_result"
    }
   ],
   "source": [
    "(sum-of-squares [1 2 3] [2 3 4])"
   ]
  },
  {
   "cell_type": "code",
   "execution_count": 115,
   "id": "49c98f60",
   "metadata": {},
   "outputs": [
    {
     "data": {
      "text/plain": [
       "21"
      ]
     },
     "execution_count": 115,
     "metadata": {},
     "output_type": "execute_result"
    }
   ],
   "source": [
    "(sum-of-squares [-1 4] [1 0 1])"
   ]
  },
  {
   "cell_type": "code",
   "execution_count": 116,
   "id": "0af02e9f",
   "metadata": {},
   "outputs": [
    {
     "data": {
      "text/plain": [
       "21"
      ]
     },
     "execution_count": 116,
     "metadata": {},
     "output_type": "execute_result"
    }
   ],
   "source": [
    "(+ (squared (- -1 1)) (squared (- 4 0)) (squared (- 0 1)))"
   ]
  },
  {
   "cell_type": "markdown",
   "id": "5ef3ded2",
   "metadata": {},
   "source": [
    "$pythag(\\alpha,\\beta) = \\sqrt{\\sum_{k} (\\alpha_k - \\beta_k)^2}$"
   ]
  },
  {
   "cell_type": "code",
   "execution_count": 117,
   "id": "10a7cd25",
   "metadata": {},
   "outputs": [
    {
     "data": {
      "text/plain": [
       "#'cutcake.core/pythag"
      ]
     },
     "execution_count": 117,
     "metadata": {},
     "output_type": "execute_result"
    }
   ],
   "source": [
    "(defn pythag [p1 p2]\n",
    "    (math/sqrt (sum-of-squares p1 p2)))"
   ]
  },
  {
   "cell_type": "code",
   "execution_count": 118,
   "id": "c3f21702",
   "metadata": {},
   "outputs": [
    {
     "data": {
      "text/plain": [
       "2.8284271247461903"
      ]
     },
     "execution_count": 118,
     "metadata": {},
     "output_type": "execute_result"
    }
   ],
   "source": [
    "(pythag [0 1 2] [2 1 0])"
   ]
  },
  {
   "cell_type": "code",
   "execution_count": 119,
   "id": "5944e831",
   "metadata": {},
   "outputs": [
    {
     "data": {
      "text/plain": [
       "2.8284271247461903"
      ]
     },
     "execution_count": 119,
     "metadata": {},
     "output_type": "execute_result"
    }
   ],
   "source": [
    "(math/sqrt (+ (squared (- 0 2)) (squared (- 1 1)) (squared (- 2 0))))"
   ]
  },
  {
   "cell_type": "code",
   "execution_count": 120,
   "id": "91807825",
   "metadata": {},
   "outputs": [
    {
     "data": {
      "text/plain": [
       "8.717797887081348"
      ]
     },
     "execution_count": 120,
     "metadata": {},
     "output_type": "execute_result"
    }
   ],
   "source": [
    "(pythag [1 2 3] [4 5 6 7])"
   ]
  },
  {
   "cell_type": "code",
   "execution_count": 121,
   "id": "0aeaab87",
   "metadata": {},
   "outputs": [
    {
     "data": {
      "text/plain": [
       "8.717797887081348"
      ]
     },
     "execution_count": 121,
     "metadata": {},
     "output_type": "execute_result"
    }
   ],
   "source": [
    "(math/sqrt (+ (squared (- 1 4)) (squared (- 2 5)) (squared (- 3 6)) (squared (- 0 7))))"
   ]
  },
  {
   "cell_type": "markdown",
   "id": "b53a6e43",
   "metadata": {},
   "source": [
    "# Cut Cake"
   ]
  },
  {
   "cell_type": "code",
   "execution_count": 122,
   "id": "4c462d30",
   "metadata": {},
   "outputs": [
    {
     "data": {
      "text/plain": [
       "nil"
      ]
     },
     "execution_count": 122,
     "metadata": {},
     "output_type": "execute_result"
    }
   ],
   "source": [
    "(ns cutcake.core\n",
    "  (:require [clojure.data.json :as json]\n",
    "            [hiccup2.core :as h]\n",
    "            [clojure.java.io :as io]))"
   ]
  },
  {
   "cell_type": "markdown",
   "id": "ca347ada",
   "metadata": {},
   "source": [
    "give the cuts possible, eliminating duplicates attributable to symmetry (but not those attributable to order, at the moment)"
   ]
  },
  {
   "cell_type": "code",
   "execution_count": 123,
   "id": "c034ff0b",
   "metadata": {},
   "outputs": [
    {
     "data": {
      "text/plain": [
       "#'cutcake.core/cut-opts"
      ]
     },
     "execution_count": 123,
     "metadata": {},
     "output_type": "execute_result"
    }
   ],
   "source": [
    "(defn cut-opts\n",
    "  ([w h]\n",
    "   {:LEFTY (cut-opts w h :LEFTY)\n",
    "    :RITA (cut-opts w h :RITA)})\n",
    "  ([w h p]\n",
    "   (cond (= p :LEFTY) (map\n",
    "                       (fn [n] (list [(- w n) h] [n h]))\n",
    "                       (range 1 (+ 1 (int (/ w 2)))))\n",
    "         (= p :RITA) (map\n",
    "                      (fn [n] (list [w (- h n)] [w n]))\n",
    "                      (range 1 (+ 1 (int (/ h 2)))))\n",
    "         :else (throw (Exception. \"invalid player\")))))"
   ]
  },
  {
   "cell_type": "code",
   "execution_count": 124,
   "id": "2be5711b",
   "metadata": {},
   "outputs": [
    {
     "data": {
      "text/plain": [
       "{:LEFTY (([3 4] [1 4]) ([2 4] [2 4])), :RITA (([4 3] [4 1]) ([4 2] [4 2]))}"
      ]
     },
     "execution_count": 124,
     "metadata": {},
     "output_type": "execute_result"
    }
   ],
   "source": [
    "(cut-opts 4 4)"
   ]
  },
  {
   "cell_type": "markdown",
   "id": "9a111ee4",
   "metadata": {},
   "source": [
    "The board is represented as a list of vectors for each piece of cake left that can be cut by someone (i.e. no 1x1).  The following function iterates through each piece of cake and offers an option for the given player for each way they can cut the given piece."
   ]
  },
  {
   "cell_type": "code",
   "execution_count": 125,
   "id": "46ec8679",
   "metadata": {},
   "outputs": [
    {
     "data": {
      "text/plain": [
       "#'cutcake.core/single-move-results"
      ]
     },
     "execution_count": 125,
     "metadata": {},
     "output_type": "execute_result"
    }
   ],
   "source": [
    "(defn single-move-results\n",
    "  ([board player]\n",
    "   (apply concat (single-move-results '() (first board) (rest board) player)))\n",
    "  ([left-pile curr right-pile player]\n",
    "   (if (nil? curr) '()\n",
    "       (let [w (get curr 0)\n",
    "             h (get curr 1)\n",
    "             opts (cut-opts w h player)]\n",
    "         (cons\n",
    "          (map\n",
    "           (fn [m] {:left left-pile :middle m :right right-pile})\n",
    "           opts)\n",
    "          (if (= 0 (count right-pile)) '()\n",
    "              (single-move-results (concat left-pile (list curr))\n",
    "                                   (first right-pile)\n",
    "                                   (rest right-pile)\n",
    "                                   player)))))))"
   ]
  },
  {
   "cell_type": "markdown",
   "id": "a70a0705",
   "metadata": {},
   "source": [
    "The results are a list of maps with the information about the parts of each option required to help the user understand what happened in each."
   ]
  },
  {
   "cell_type": "code",
   "execution_count": 126,
   "id": "c87effe4",
   "metadata": {},
   "outputs": [
    {
     "data": {
      "text/plain": [
       "({:left (), :middle ([4 3] [4 1]), :right ()} {:left (), :middle ([4 2] [4 2]), :right ()})"
      ]
     },
     "execution_count": 126,
     "metadata": {},
     "output_type": "execute_result"
    }
   ],
   "source": [
    "(single-move-results '([4 4]) :RITA)"
   ]
  },
  {
   "cell_type": "code",
   "execution_count": 127,
   "id": "0078c477",
   "metadata": {},
   "outputs": [
    {
     "data": {
      "text/plain": [
       "({:left (), :middle ([2 1] [2 1]), :right ([1 2] [2 1] [5 7])} {:left ([2 2]), :middle ([1 1] [1 1]), :right ([2 1] [5 7])} {:left ([2 2] [1 2] [2 1]), :middle ([5 6] [5 1]), :right ()} {:left ([2 2] [1 2] [2 1]), :middle ([5 5] [5 2]), :right ()} {:left ([2 2] [1 2] [2 1]), :middle ([5 4] [5 3]), :right ()})"
      ]
     },
     "execution_count": 127,
     "metadata": {},
     "output_type": "execute_result"
    }
   ],
   "source": [
    "(single-move-results '([2 2] [1 2] [2 1] [5 7]) :RITA)"
   ]
  },
  {
   "cell_type": "code",
   "execution_count": 128,
   "id": "a6874766",
   "metadata": {},
   "outputs": [
    {
     "data": {
      "text/plain": [
       "({:left (), :middle ([1 2] [1 2]), :right ([1 2] [2 1] [5 7])} {:left ([2 2] [1 2]), :middle ([1 1] [1 1]), :right ([5 7])} {:left ([2 2] [1 2] [2 1]), :middle ([4 7] [1 7]), :right ()} {:left ([2 2] [1 2] [2 1]), :middle ([3 7] [2 7]), :right ()})"
      ]
     },
     "execution_count": 128,
     "metadata": {},
     "output_type": "execute_result"
    }
   ],
   "source": [
    "(single-move-results '([2 2] [1 2] [2 1] [5 7]) :LEFTY)"
   ]
  },
  {
   "cell_type": "code",
   "execution_count": 129,
   "id": "a817b387",
   "metadata": {},
   "outputs": [
    {
     "data": {
      "text/plain": [
       "({:left (), :middle ([7 1] [1 1]), :right ()} {:left (), :middle ([6 1] [2 1]), :right ()} {:left (), :middle ([5 1] [3 1]), :right ()} {:left (), :middle ([4 1] [4 1]), :right ()})"
      ]
     },
     "execution_count": 129,
     "metadata": {},
     "output_type": "execute_result"
    }
   ],
   "source": [
    "(single-move-results '([8 1]) :LEFTY)"
   ]
  },
  {
   "cell_type": "code",
   "execution_count": 130,
   "id": "5dc8bfd8",
   "metadata": {},
   "outputs": [
    {
     "data": {
      "text/plain": [
       "()"
      ]
     },
     "execution_count": 130,
     "metadata": {},
     "output_type": "execute_result"
    }
   ],
   "source": [
    "(single-move-results '([8 1]) :RITA)"
   ]
  },
  {
   "cell_type": "markdown",
   "id": "82310e01",
   "metadata": {},
   "source": [
    "### some dynamic programming stuff\n",
    "given a map that contains piece values, evaluate an option's total value, find the best among a list of options"
   ]
  },
  {
   "cell_type": "code",
   "execution_count": 131,
   "id": "7b064b1a",
   "metadata": {},
   "outputs": [
    {
     "data": {
      "text/plain": [
       "#'cutcake.core/eval-opts"
      ]
     },
     "execution_count": 131,
     "metadata": {},
     "output_type": "execute_result"
    }
   ],
   "source": [
    "(defn eval-opt\n",
    "  [opt cache]\n",
    "  (reduce\n",
    "   +\n",
    "   (map #(get cache %) opt)))\n",
    "\n",
    "(defn eval-opts\n",
    "  [opts cache player]\n",
    "  (reduce\n",
    "   (if (= player :LEFTY) max min)\n",
    "   (map #(eval-opt % cache) opts)))"
   ]
  },
  {
   "cell_type": "markdown",
   "id": "0d214f7c",
   "metadata": {},
   "source": [
    "given a map that contains piece values and a starting position, identify pieces from the available moves whose value is not yet identified"
   ]
  },
  {
   "cell_type": "code",
   "execution_count": 132,
   "id": "4ddb2b56",
   "metadata": {},
   "outputs": [
    {
     "data": {
      "text/plain": [
       "#'cutcake.core/get-unknown-pieces"
      ]
     },
     "execution_count": 132,
     "metadata": {},
     "output_type": "execute_result"
    }
   ],
   "source": [
    "(defn get-unknown-pieces\n",
    "  [w h known]\n",
    "  (let [opts (cut-opts w h)\n",
    "        all-opts (concat (:RITA opts) (:LEFTY opts))]\n",
    "    (set\n",
    "     (filter #(nil? (get known %))\n",
    "             (apply concat all-opts)))))"
   ]
  },
  {
   "cell_type": "markdown",
   "id": "c5289ddd",
   "metadata": {},
   "source": [
    "implement the relevant parts of the simplicity rule from Winning Ways to calulate the score for a position based on the players' options"
   ]
  },
  {
   "cell_type": "code",
   "execution_count": 133,
   "id": "1bb30a51",
   "metadata": {},
   "outputs": [
    {
     "data": {
      "text/plain": [
       "#'cutcake.core/simplicity-rule"
      ]
     },
     "execution_count": 133,
     "metadata": {},
     "output_type": "execute_result"
    }
   ],
   "source": [
    "(defn simplicity-rule\n",
    "  [l r]\n",
    "  (cond (> l r) (throw (Exception. \"l > r\"))\n",
    "        (= l r) 0\n",
    "        (and (< l 0) (> r 0)) 0\n",
    "        ;\n",
    "        ; not checking for fractional cases, but here could be that\n",
    "        ;\n",
    "        (and (<= r 0) (<= l 0)) (- r 1)\n",
    "        (and (>= r 0) (>= l 0)) (+ l 1)\n",
    "        :else (throw (Exception. \"not sure what happened\"))))"
   ]
  },
  {
   "cell_type": "markdown",
   "id": "c89f440f",
   "metadata": {},
   "source": [
    "Recursively evaluate positions, maintaining a cache for positions already seen so you do not re-caculate them. The `reduce` allows us to pass the latest cache object from position to position."
   ]
  },
  {
   "cell_type": "markdown",
   "id": "b2476ad7",
   "metadata": {},
   "source": [
    "## Cutcake Scorer"
   ]
  },
  {
   "cell_type": "code",
   "execution_count": 134,
   "id": "3710bed0",
   "metadata": {},
   "outputs": [
    {
     "data": {
      "text/plain": [
       "#'cutcake.core/cutcake"
      ]
     },
     "execution_count": 134,
     "metadata": {},
     "output_type": "execute_result"
    }
   ],
   "source": [
    "(defn cutcake\n",
    "  ([w h]\n",
    "  (cutcake w h {}))\n",
    "  ([w h known]\n",
    "  (cond (= w 1) (assoc known [w h] (* -1 (- h 1)))\n",
    "        (= h 1) (assoc known [w h] (- w 1))\n",
    "        :else (let [subs (reduce\n",
    "                          (fn [cache [ww hh]]\n",
    "                            (cutcake ww hh cache))\n",
    "                          known\n",
    "                          (get-unknown-pieces w h known))\n",
    "                    l-best (eval-opts (cut-opts w h :LEFTY) subs :LEFTY)\n",
    "                    r-best (eval-opts (cut-opts w h :RITA) subs :RITA)]\n",
    "                (assoc subs [w h] (simplicity-rule l-best r-best))))))"
   ]
  },
  {
   "cell_type": "code",
   "execution_count": 135,
   "id": "f7cb2bbf",
   "metadata": {},
   "outputs": [
    {
     "data": {
      "text/plain": [
       "{[2 1] 1, [1 2] -1, [2 2] 0, [1 3] -2, [2 3] 0, [3 1] 2, [3 2] 0, [3 3] 0}"
      ]
     },
     "execution_count": 135,
     "metadata": {},
     "output_type": "execute_result"
    }
   ],
   "source": [
    "(cutcake 3 3)"
   ]
  },
  {
   "cell_type": "code",
   "execution_count": 136,
   "id": "082b5924",
   "metadata": {},
   "outputs": [
    {
     "data": {
      "text/plain": [
       "{[8 8] 0, [7 6] 0, [8 7] 1, [8 11] 0, [9 8] 0, [7 1] 6, [10 14] 0, [12 12] 0, [8 9] 0, [7 12] -2, [12 6] 2, [13 3] 5, [10 5] 1, [11 9] 0, [11 2] 4, [4 3] 1, [7 11] -1, [2 2] 0, [7 13] -2, [3 9] -3, [13 8] 0, [4 12] -2, [7 7] 0, [2 8] -3, [13 6] 2, [8 4] 1, [2 3] 0, [2 5] -1, [7 2] 2, [10 13] 0, [6 7] 0, [12 13] 0, [12 14] 0, [7 4] 0, [8 3] 3, [3 3] 0, [13 12] 0, [10 9] 0, [5 4] 0, [10 8] 0, [5 10] -1, [6 3] 2, [14 6] 2, [3 4] -1, [11 14] 0, [12 8] 0, [1 12] -11, [12 5] 2, [7 3] 2, [8 6] 1, [12 2] 5, [4 2] 1, [14 13] 0, [7 8] -1, [3 12] -5, [4 14] -2, [13 2] 5, [6 6] 0, [9 6] 1, [1 13] -12, [12 1] 11, [11 13] 0, [13 9] 0, [6 13] -2, [1 9] -8, [8 10] 0, [5 3] 1, [9 9] 0, [13 7] 2, [9 3] 3, [9 12] 0, [4 7] 0, [13 1] 12, [4 10] -1, [3 13] -5, [4 9] -1, [1 10] -9, [2 9] -3, [6 5] 0, [11 11] 0, [5 13] -2, [5 14] -2, [4 11] -1, [4 1] 3, [5 2] 1, [2 13] -5, [4 6] 0, [11 4] 1, [1 4] -3, [10 2] 4, [11 8] 0, [1 11] -10, [5 7] 0, [11 12] 0, [12 7] 2, [8 2] 3, [10 7] 1, [11 10] 0, [1 3] -2, [4 8] -1, [10 11] 0, [12 11] 0, [1 5] -4, [9 14] 0, [13 13] 0, [12 10] 0, [11 6] 1, [14 4] 2, [11 3] 4, [1 8] -7, [1 7] -6, [12 4] 2, [6 4] 0, [8 1] 7, [2 12] -5, [14 8] 0, [5 1] 4, [6 1] 5, [2 11] -4, [6 14] -2, [5 11] -1, [5 6] 0, [5 8] -1, [13 11] 0, [8 13] 0, [8 5] 1, [14 11] 0, [6 8] -1, [13 5] 2, [9 11] 0, [6 11] -1, [10 1] 9, [5 5] 0, [7 9] -1, [10 12] 0, [14 1] 13, [2 7] -2, [11 1] 10, [5 9] -1, [2 4] -1, [3 6] -2, [14 5] 2, [7 10] -1, [10 6] 1, [9 2] 3, [4 5] 0, [11 7] 1, [9 1] 8, [9 7] 1, [10 4] 1, [10 10] 0, [12 9] 0, [6 9] -1, [3 14] -6, [3 11] -4, [11 5] 1, [9 13] 0, [3 1] 2, [3 10] -4, [12 3] 5, [14 14] 0, [2 1] 1, [1 14] -13, [9 5] 1, [6 10] -1, [3 8] -3, [9 4] 1, [7 14] -2, [14 2] 6, [6 12] -2, [4 13] -2, [1 6] -5, [2 14] -6, [14 3] 6, [4 4] 0, [3 7] -2, [2 10] -4, [7 5] 0, [13 10] 0, [2 6] -2, [6 2] 2, [14 12] 0, [9 10] 0, [8 14] 0, [8 12] 0, [13 4] 2, [14 7] 2, [1 2] -1, [14 10] 0, [10 3] 4, [3 5] -1, [13 14] 0, [5 12] -2, [3 2] 0, [14 9] 0}"
      ]
     },
     "execution_count": 136,
     "metadata": {},
     "output_type": "execute_result"
    }
   ],
   "source": [
    "(cutcake 14 14)"
   ]
  },
  {
   "cell_type": "markdown",
   "id": "33c35c9d",
   "metadata": {},
   "source": [
    "## Remaining items\n",
    "* Construct an AI based on the score for each option\n",
    "* Eliminate duplicates from the options due to ordering\n",
    "* Represent the state of a game for a user to see visually"
   ]
  }
 ],
 "metadata": {
  "kernelspec": {
   "display_name": "Clojure (clojupyter-0.4.335)",
   "language": "clojure",
   "name": "clojupyter-0.4.335"
  },
  "language_info": {
   "file_extension": ".clj",
   "mimetype": "text/x-clojure",
   "name": "clojure",
   "version": "1.11.3"
  }
 },
 "nbformat": 4,
 "nbformat_minor": 5
}
