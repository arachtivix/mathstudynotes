{
 "cells": [
  {
   "cell_type": "markdown",
   "metadata": {},
   "source": [
    "# Drawing a Triangle with Quil\n",
    "\n",
    "This notebook demonstrates how to draw a simple triangle using Quil in Clojure."
   ]
  },
  {
   "cell_type": "code",
   "execution_count": 1,
   "metadata": {},
   "outputs": [
    {
     "data": {
      "text/plain": [
       "{[org.apache.xmlgraphics/xmlgraphics-commons \"2.6\"] #{[commons-io \"1.3.1\"] [commons-logging \"1.0.4\"]}, [quil/processing-pdf \"4.2.3\"] nil, [quil/processing-core \"4.2.3\"] nil, [org.clojure/clojure \"1.11.1\"] #{[org.clojure/core.specs.alpha \"0.2.62\"] [org.clojure/spec.alpha \"0.3.218\"]}, [org.apache.xmlgraphics/batik-constants \"1.14\"] nil, [commons-io \"1.3.1\"] nil, [org.bouncycastle/bcmail-jdk14 \"1.38\"] nil, [commons-logging \"1.0.4\"] nil, [cljsjs/p5 \"1.7.0-0\"] nil, [org.apache.xmlgraphics/batik-awt-util \"1.14\"] nil, [org.apache.xmlgraphics/batik-util \"1.14\"] #{[org.apache.xmlgraphics/batik-constants \"1.14\"] [org.apache.xmlgraphics/batik-i18n \"1.14\"]}, [quil \"4.3.1563\"] #{[quil/processing-pdf \"4.2.3\"] [quil/processing-core \"4.2.3\"] [org.clojure/clojure \"1.11.1\"] [cljsjs/p5 \"1.7.0-0\"] [quil/processing-dxf \"4.2.3\"] [org.bouncycastle/bctsp-jdk14 \"1.38\"] [com.lowagie/itext \"2.1.7\" :exclusions [[bouncycastle/bctsp-jdk14]]] [org.apache.xmlgraphics/batik-svggen \"1.14\"] [quil/processing-svg \"4.2.3\"] [org.apache.xmlgraphics/batik-dom \"1.14\"]}, [quil/processing-dxf \"4.2.3\"] nil, [bouncycastle/bcprov-jdk14 \"138\"] nil, [xml-apis \"1.4.01\"] nil, [org.bouncycastle/bctsp-jdk14 \"1.38\"] #{[org.bouncycastle/bcmail-jdk14 \"1.38\"] [org.bouncycastle/bcprov-jdk14 \"1.38\"]}, [bouncycastle/bcmail-jdk14 \"138\"] nil, [org.apache.xmlgraphics/batik-i18n \"1.14\"] nil, [org.clojure/core.specs.alpha \"0.2.62\"] nil, [org.apache.xmlgraphics/batik-shared-resources \"1.14\"] nil, [com.lowagie/itext \"2.1.7\" :exclusions [[bouncycastle/bctsp-jdk14]]] #{[bouncycastle/bcprov-jdk14 \"138\"] [bouncycastle/bcmail-jdk14 \"138\"]}, [xalan/serializer \"2.7.2\"] nil, [org.clojure/spec.alpha \"0.3.218\"] nil, [org.apache.xmlgraphics/batik-xml \"1.14\"] nil, [org.apache.xmlgraphics/batik-svggen \"1.14\"] #{[org.apache.xmlgraphics/batik-awt-util \"1.14\"]}, [xml-apis/xml-apis-ext \"1.3.04\"] nil, [org.apache.xmlgraphics/batik-ext \"1.14\"] nil, [org.apache.xmlgraphics/batik-css \"1.14\"] #{[org.apache.xmlgraphics/xmlgraphics-commons \"2.6\"]}, [xalan \"2.7.2\"] #{[xalan/serializer \"2.7.2\"]}, [quil/processing-svg \"4.2.3\"] nil, [org.apache.xmlgraphics/batik-dom \"1.14\"] #{[org.apache.xmlgraphics/batik-util \"1.14\"] [xml-apis \"1.4.01\"] [org.apache.xmlgraphics/batik-shared-resources \"1.14\"] [org.apache.xmlgraphics/batik-xml \"1.14\"] [xml-apis/xml-apis-ext \"1.3.04\"] [org.apache.xmlgraphics/batik-ext \"1.14\"] [org.apache.xmlgraphics/batik-css \"1.14\"] [xalan \"2.7.2\"]}, [org.bouncycastle/bcprov-jdk14 \"1.38\"] nil}"
      ]
     },
     "execution_count": 1,
     "metadata": {},
     "output_type": "execute_result"
    }
   ],
   "source": [
    "(require '[clojupyter.misc.helper :as helper])\n",
    "(helper/add-dependencies '[quil \"4.3.1563\"])"
   ]
  },
  {
   "cell_type": "code",
   "execution_count": 2,
   "metadata": {},
   "outputs": [
    {
     "data": {
      "text/plain": [
       "#'proj.p202.triangle/triangle-state"
      ]
     },
     "execution_count": 2,
     "metadata": {},
     "output_type": "execute_result"
    }
   ],
   "source": [
    "(ns proj.p202.triangle\n",
    "  (:require [quil.core :as q]\n",
    "            [quil.middleware :as m]))\n",
    "\n",
    ";; Define the sketch state\n",
    "(def triangle-state {\n",
    "  :points [[200 100]   ; top point\n",
    "           [100 300]   ; bottom-left point\n",
    "           [300 300]\n",
    "           [350 350]]  ; bottom-right point\n",
    "})"
   ]
  },
  {
   "cell_type": "code",
   "execution_count": 3,
   "metadata": {},
   "outputs": [
    {
     "data": {
      "text/plain": [
       "#'proj.p202.triangle/setup"
      ]
     },
     "execution_count": 3,
     "metadata": {},
     "output_type": "execute_result"
    }
   ],
   "source": [
    ";; Setup function - called once at the beginning\n",
    "(defn setup []\n",
    "  (q/frame-rate 1)  ; Set framerate to 1 FPS\n",
    "  (q/background 240)  ; Set background to light gray\n",
    "  triangle-state)"
   ]
  },
  {
   "cell_type": "code",
   "execution_count": 4,
   "metadata": {},
   "outputs": [
    {
     "data": {
      "text/plain": [
       "#'proj.p202.triangle/draw"
      ]
     },
     "execution_count": 4,
     "metadata": {},
     "output_type": "execute_result"
    }
   ],
   "source": [
    ";; Draw function - called on every frame\n",
    "(defn draw [state]\n",
    "  (q/stroke 0)         ; Set stroke color to black\n",
    "  (q/stroke-weight 2)  ; Set line thickness\n",
    "  (q/fill 200)        ; Set fill color to light gray\n",
    "  \n",
    "  ;; Draw the triangle using the points from state\n",
    "  (let [points (:points state)]\n",
    "    (q/begin-shape)\n",
    "    (doseq [[x y] points]\n",
    "      (q/vertex x y))\n",
    "    (q/end-shape :close)))"
   ]
  },
  {
   "cell_type": "code",
   "execution_count": 5,
   "metadata": {},
   "outputs": [
    {
     "data": {
      "text/plain": [
       "#'proj.p202.triangle/triangle-sketch"
      ]
     },
     "execution_count": 5,
     "metadata": {},
     "output_type": "execute_result"
    }
   ],
   "source": [
    ";; Create and run the sketch\n",
    "(q/defsketch triangle-sketch\n",
    "  :title \"Triangle\"\n",
    "  :size [1000 1000]\n",
    "  :renderer :svg\n",
    "  :output-file \"asdf.svg\"\n",
    "  :setup setup\n",
    "  :draw draw\n",
    "  :features [:keep-on-top]\n",
    "  :middleware [m/fun-mode])"
   ]
  },
  {
   "cell_type": "markdown",
   "metadata": {},
   "source": [
    "![An svg of my work](asdf.svg)"
   ]
  }
 ],
 "metadata": {
  "kernelspec": {
   "display_name": "Clojure (clojupyter-0.4.335)",
   "language": "clojure",
   "name": "clojupyter-0.4.335"
  },
  "language_info": {
   "file_extension": ".clj",
   "mimetype": "text/x-clojure",
   "name": "clojure",
   "version": "1.11.3"
  }
 },
 "nbformat": 4,
 "nbformat_minor": 4
}
