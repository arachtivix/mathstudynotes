{
 "cells": [
  {
   "cell_type": "markdown",
   "metadata": {},
   "source": [
    "# Drawing with Hiccup and SVG\n",
    "\n",
    "Working up some drawings to help understand p202"
   ]
  },
  {
   "cell_type": "code",
   "execution_count": 1,
   "metadata": {},
   "outputs": [
    {
     "data": {
      "text/markdown": [
       "<svg height=\"200\" width=\"200\" xmlns=\"http://www.w3.org/2000/svg\"><circle cx=\"50\" cy=\"50\" fill=\"blue\" r=\"30\"></circle><rect fill=\"red\" height=\"40\" width=\"60\" x=\"100\" y=\"20\"></rect><polygon fill=\"green\" points=\"20,150 80,120 60,180\"></polygon></svg>"
      ]
     },
     "execution_count": 1,
     "metadata": {},
     "output_type": "execute_result"
    }
   ],
   "source": [
    "(require '[hiccup.core :refer [html]])\n",
    "(require '[clojupyter.misc.display :as display])\n",
    "\n",
    "(defn create-svg []\n",
    "  (html\n",
    "    [:svg {:width 200 :height 200 :xmlns \"http://www.w3.org/2000/svg\"}\n",
    "     [:circle {:cx 50 :cy 50 :r 30 :fill \"blue\"}]\n",
    "     [:rect {:x 100 :y 20 :width 60 :height 40 :fill \"red\"}]\n",
    "     [:polygon {:points \"20,150 80,120 60,180\" :fill \"green\"}]]))\n",
    "\n",
    "(display/markdown (create-svg))"
   ]
  },
  {
   "cell_type": "code",
   "execution_count": 5,
   "metadata": {},
   "outputs": [
    {
     "name": "stderr",
     "output_type": "stream",
     "text": [
      "Execution error (ArityException) at user/svg-drawing$fn (REPL:2).\n",
      "Wrong number of args (4) passed to: clojure.core/cons--5441\n"
     ]
    },
    {
     "ename": "class clojure.lang.ArityException",
     "evalue": "",
     "output_type": "error",
     "traceback": []
    }
   ],
   "source": [
    "(defn svg-drawing [& contents]\n",
    "    (html (apply cons [:svg {:width 300 :height 200 :xmlns \"http://www.w3.org/2000/svg\"}] contents)))\n",
    "(defn draw-labeled-line [x1 y1 label1 x2 y2 label2]\n",
    "    (svg-drawing \n",
    "     [:line {:x1 x1 :y1 y1 :x2 x2 :y2 y2 :stroke \"black\" :stroke-width 2}]\n",
    "     [:text {:x x1 :y (- y1 10) :font-size 14 :fill \"black\"} label1]\n",
    "     [:text {:x x2 :y (- y2 10) :font-size 14 :fill \"black\"} label2]))\n",
    "\n",
    ";; Usage example:\n",
    "(display/markdown (html (draw-labeled-line 50 100 \"A\" 200 50 \"B\")))\n"
   ]
  },
  {
   "cell_type": "code",
   "execution_count": null,
   "metadata": {},
   "outputs": [],
   "source": []
  }
 ],
 "metadata": {
  "kernelspec": {
   "display_name": "Clojure (clojupyter-0.4.335)",
   "language": "clojure",
   "name": "clojupyter-0.4.335"
  },
  "language_info": {
   "file_extension": ".clj",
   "mimetype": "text/x-clojure",
   "name": "clojure",
   "version": "1.11.3"
  }
 },
 "nbformat": 4,
 "nbformat_minor": 4
}
