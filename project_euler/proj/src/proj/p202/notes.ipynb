{
 "cells": [
  {
   "cell_type": "markdown",
   "metadata": {},
   "source": [
    "# Drawing a Triangle with Quil\n",
    "\n",
    "This notebook demonstrates how to draw a simple triangle using Quil in Clojure."
   ]
  },
  {
   "cell_type": "code",
   "execution_count": null,
   "metadata": {},
   "outputs": [],
   "source": [
    "(require '[clojupyter.misc.helper :as helper])\n",
    "(helper/add-dependencies '[quil \"4.3.1563\"])"
   ]
  },
  {
   "cell_type": "code",
   "execution_count": null,
   "metadata": {},
   "outputs": [],
   "source": [
    "(ns proj.p202.triangle\n",
    "  (:require [quil.core :as q]\n",
    "            [quil.middleware :as m]))\n",
    "\n",
    ";; Define the sketch state\n",
    "(def triangle-state {\n",
    "  :points [[200 100]   ; top point\n",
    "           [100 300]   ; bottom-left point\n",
    "           [300 300]]  ; bottom-right point\n",
    "})"
   ]
  },
  {
   "cell_type": "code",
   "execution_count": null,
   "metadata": {},
   "outputs": [],
   "source": [
    ";; Setup function - called once at the beginning\n",
    "(defn setup []\n",
    "  (q/frame-rate 1)  ; Set framerate to 1 FPS\n",
    "  (q/background 240)  ; Set background to light gray\n",
    "  triangle-state)"
   ]
  },
  {
   "cell_type": "code",
   "execution_count": null,
   "metadata": {},
   "outputs": [],
   "source": [
    ";; Draw function - called on every frame\n",
    "(defn draw [state]\n",
    "  (q/stroke 0)         ; Set stroke color to black\n",
    "  (q/stroke-weight 2)  ; Set line thickness\n",
    "  (q/fill 200)        ; Set fill color to light gray\n",
    "  \n",
    "  ;; Draw the triangle using the points from state\n",
    "  (let [points (:points state)]\n",
    "    (q/begin-shape)\n",
    "    (doseq [[x y] points]\n",
    "      (q/vertex x y))\n",
    "    (q/end-shape :close)))"
   ]
  },
  {
   "cell_type": "code",
   "execution_count": null,
   "metadata": {},
   "outputs": [],
   "source": [
    ";; Create and run the sketch\n",
    "(q/defsketch triangle-sketch\n",
    "  :title \"Triangle\"\n",
    "  :size [400 400]\n",
    "  :setup setup\n",
    "  :draw draw\n",
    "  :features [:keep-on-top]\n",
    "  :middleware [m/fun-mode])"
   ]
  }
 ],
 "metadata": {
  "kernelspec": {
   "display_name": "Clojure (clojupyter-0.4.335)",
   "language": "clojure",
   "name": "clojupyter-0.4.335"
  },
  "language_info": {
   "file_extension": ".clj",
   "mimetype": "text/x-clojure",
   "name": "clojure",
   "version": "1.11.3"
  }
 },
 "nbformat": 4,
 "nbformat_minor": 4
}
