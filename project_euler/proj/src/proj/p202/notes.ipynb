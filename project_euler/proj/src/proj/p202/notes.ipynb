{
 "cells": [
  {
   "cell_type": "markdown",
   "metadata": {},
   "source": [
    "# Drawing with Hiccup and SVG\n",
    "\n",
    "Working up some drawings to help understand p202"
   ]
  },
  {
   "cell_type": "code",
   "execution_count": 1,
   "metadata": {},
   "outputs": [
    {
     "data": {
      "text/markdown": [
       "<svg height=\"200\" width=\"200\" xmlns=\"http://www.w3.org/2000/svg\"><circle cx=\"50\" cy=\"50\" fill=\"blue\" r=\"30\"></circle><rect fill=\"red\" height=\"40\" width=\"60\" x=\"100\" y=\"20\"></rect><polygon fill=\"green\" points=\"20,150 80,120 60,180\"></polygon></svg>"
      ]
     },
     "execution_count": 1,
     "metadata": {},
     "output_type": "execute_result"
    }
   ],
   "source": [
    "(require '[hiccup.core :refer [html]])\n",
    "(require '[clojupyter.misc.display :as display])\n",
    "\n",
    "(defn create-svg []\n",
    "  (html\n",
    "    [:svg {:width 200 :height 200 :xmlns \"http://www.w3.org/2000/svg\"}\n",
    "     [:circle {:cx 50 :cy 50 :r 30 :fill \"blue\"}]\n",
    "     [:rect {:x 100 :y 20 :width 60 :height 40 :fill \"red\"}]\n",
    "     [:polygon {:points \"20,150 80,120 60,180\" :fill \"green\"}]]))\n",
    "\n",
    "(display/markdown (create-svg))"
   ]
  },
  {
   "cell_type": "code",
   "execution_count": 12,
   "metadata": {},
   "outputs": [
    {
     "data": {
      "text/markdown": [
       "<svg height=\"200\" width=\"300\" xmlns=\"http://www.w3.org/2000/svg\"><line stroke=\"black\" stroke-width=\"2\" x1=\"50\" x2=\"200\" y1=\"100\" y2=\"50\"></line><text fill=\"black\" font-size=\"14\" x=\"50\" y=\"90\">A</text><text fill=\"black\" font-size=\"14\" x=\"200\" y=\"40\">B</text></svg>"
      ]
     },
     "execution_count": 12,
     "metadata": {},
     "output_type": "execute_result"
    }
   ],
   "source": [
    "(defn svg-drawing [& contents]\n",
    "    (html (into [:svg {:width 300 :height 200 :xmlns \"http://www.w3.org/2000/svg\"}] contents)))\n",
    "(defn draw-labeled-line [x1 y1 label1 x2 y2 label2]\n",
    "     [[:line {:x1 x1 :y1 y1 :x2 x2 :y2 y2 :stroke \"black\" :stroke-width 2}]\n",
    "     [:text {:x x1 :y (- y1 10) :font-size 14 :fill \"black\"} label1]\n",
    "     [:text {:x x2 :y (- y2 10) :font-size 14 :fill \"black\"} label2]])\n",
    "\n",
    ";; Usage example:\n",
    "(display/markdown (apply svg-drawing (draw-labeled-line 50 100 \"A\" 200 50 \"B\")))"
   ]
  },
  {
   "cell_type": "code",
   "execution_count": null,
   "metadata": {},
   "outputs": [],
   "source": []
  }
 ],
 "metadata": {
  "kernelspec": {
   "display_name": "Clojure (clojupyter-0.4.335)",
   "language": "clojure",
   "name": "clojupyter-0.4.335"
  },
  "language_info": {
   "file_extension": ".clj",
   "mimetype": "text/x-clojure",
   "name": "clojure",
   "version": "1.11.3"
  }
 },
 "nbformat": 4,
 "nbformat_minor": 4
}
