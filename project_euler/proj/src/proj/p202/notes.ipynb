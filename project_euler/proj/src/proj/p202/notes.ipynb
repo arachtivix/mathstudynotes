{
 "cells": [
  {
   "cell_type": "markdown",
   "metadata": {},
   "source": [
    "# Drawing with Hiccup and SVG\n",
    "\n",
    "Working up some drawings to help understand p202"
   ]
  },
  {
   "cell_type": "code",
   "execution_count": 1,
   "metadata": {},
   "outputs": [
    {
     "data": {
      "text/markdown": [
       "<svg height=\"200\" width=\"200\" xmlns=\"http://www.w3.org/2000/svg\"><circle cx=\"50\" cy=\"50\" fill=\"blue\" r=\"30\"></circle><rect fill=\"red\" height=\"40\" width=\"60\" x=\"100\" y=\"20\"></rect><polygon fill=\"green\" points=\"20,150 80,120 60,180\"></polygon></svg>"
      ]
     },
     "execution_count": 1,
     "metadata": {},
     "output_type": "execute_result"
    }
   ],
   "source": [
    "(require '[hiccup.core :refer [html]])\n",
    "(require '[clojupyter.misc.display :as display])\n",
    "\n",
    "(defn create-svg []\n",
    "  (html\n",
    "    [:svg {:width 200 :height 200 :xmlns \"http://www.w3.org/2000/svg\"}\n",
    "     [:circle {:cx 50 :cy 50 :r 30 :fill \"blue\"}]\n",
    "     [:rect {:x 100 :y 20 :width 60 :height 40 :fill \"red\"}]\n",
    "     [:polygon {:points \"20,150 80,120 60,180\" :fill \"green\"}]]))\n",
    "\n",
    "(display/markdown (create-svg))"
   ]
  }
 ],
 "metadata": {
  "kernelspec": {
   "display_name": "Clojure (clojupyter-0.4.335)",
   "language": "clojure",
   "name": "clojupyter-0.4.335"
  },
  "language_info": {
   "file_extension": ".clj",
   "mimetype": "text/x-clojure",
   "name": "clojure",
   "version": "1.11.3"
  }
 },
 "nbformat": 4,
 "nbformat_minor": 4
}
