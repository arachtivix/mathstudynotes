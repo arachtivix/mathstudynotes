{
 "cells": [
  {
   "cell_type": "markdown",
   "id": "d3a697c9",
   "metadata": {},
   "source": [
    "The notation introduced in On Numbers, brief demo for my future usage:"
   ]
  },
  {
   "cell_type": "code",
   "execution_count": 76,
   "id": "98f35b38",
   "metadata": {},
   "outputs": [
    {
     "data": {
      "text/markdown": [
       "\\begin{equation}\n",
       "\\{ \\emptyset | \\emptyset \\}\n",
       "\\end{equation}"
      ]
     },
     "execution_count": 76,
     "metadata": {},
     "output_type": "execute_result"
    }
   ],
   "source": [
    "(require '[clojupyter.misc.display :as display])\n",
    "(display/markdown \"\\\\begin{equation}\n",
    "\\\\{ \\\\emptyset | \\\\emptyset \\\\}\n",
    "\\\\end{equation}\")"
   ]
  },
  {
   "cell_type": "markdown",
   "id": "95abf2f2",
   "metadata": {},
   "source": [
    "Need to come up with a manageable way not to have to do all escape characters all the time.\n",
    "\n",
    "\\begin{equation}\n",
    "\\{\\emptyset|\\emptyset\\}\n",
    "\\end{equation}"
   ]
  },
  {
   "cell_type": "code",
   "execution_count": 77,
   "id": "2231652d",
   "metadata": {},
   "outputs": [
    {
     "data": {
      "text/plain": [
       "#'user/simple-conway-notation"
      ]
     },
     "execution_count": 77,
     "metadata": {},
     "output_type": "execute_result"
    }
   ],
   "source": [
    "(defn simple-conway-notation [n1 n2] (str \"\\\\begin{equation} \\\\{\" n1 \"|\" n2 \"\\\\}\\\\end{equation}\"))"
   ]
  },
  {
   "cell_type": "code",
   "execution_count": 78,
   "id": "d4396d26",
   "metadata": {},
   "outputs": [
    {
     "data": {
      "text/markdown": [
       "\\begin{equation} \\{\\emptyset|\\emptyset\\}\\end{equation}"
      ]
     },
     "execution_count": 78,
     "metadata": {},
     "output_type": "execute_result"
    }
   ],
   "source": [
    "(display/markdown (simple-conway-notation \"\\\\emptyset\" \"\\\\emptyset\"))"
   ]
  },
  {
   "cell_type": "code",
   "execution_count": 81,
   "id": "cfb6ecc6",
   "metadata": {},
   "outputs": [
    {
     "data": {
      "text/markdown": [
       "\\begin{equation} \\{0|1\\}\\end{equation}"
      ]
     },
     "execution_count": 81,
     "metadata": {},
     "output_type": "execute_result"
    }
   ],
   "source": [
    "(display/markdown (simple-conway-notation 0 1))"
   ]
  }
 ],
 "metadata": {
  "kernelspec": {
   "display_name": "Clojure (clojupyter-0.4.335)",
   "language": "clojure",
   "name": "clojupyter-0.4.335"
  },
  "language_info": {
   "file_extension": ".clj",
   "mimetype": "text/x-clojure",
   "name": "clojure",
   "version": "1.11.3"
  }
 },
 "nbformat": 4,
 "nbformat_minor": 5
}
