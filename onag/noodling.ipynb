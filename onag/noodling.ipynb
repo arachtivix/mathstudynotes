{
 "cells": [
  {
   "cell_type": "markdown",
   "id": "d3a697c9",
   "metadata": {},
   "source": [
    "# Noodling with ideas from On Numbers and Games\n",
    "\n",
    "The notation introduced in On Numbers, brief demo for my future usage:"
   ]
  },
  {
   "cell_type": "code",
   "execution_count": 1,
   "id": "98f35b38",
   "metadata": {},
   "outputs": [
    {
     "data": {
      "text/markdown": [
       "\\begin{equation}\n",
       "\\{ \\emptyset | \\emptyset \\}\n",
       "\\end{equation}"
      ]
     },
     "execution_count": 1,
     "metadata": {},
     "output_type": "execute_result"
    }
   ],
   "source": [
    "(require '[clojupyter.misc.display :as display])\n",
    "(display/markdown \"\\\\begin{equation}\n",
    "\\\\{ \\\\emptyset | \\\\emptyset \\\\}\n",
    "\\\\end{equation}\")"
   ]
  },
  {
   "cell_type": "markdown",
   "id": "95abf2f2",
   "metadata": {},
   "source": [
    "Need to come up with a manageable way not to have to do all escape characters all the time.\n",
    "\n",
    "\\begin{equation}\n",
    "\\{\\emptyset|\\emptyset\\}\n",
    "\\end{equation}"
   ]
  },
  {
   "cell_type": "code",
   "execution_count": 2,
   "id": "2231652d",
   "metadata": {},
   "outputs": [
    {
     "data": {
      "text/plain": [
       "#'user/simple-conway-notation"
      ]
     },
     "execution_count": 2,
     "metadata": {},
     "output_type": "execute_result"
    }
   ],
   "source": [
    "(defn simple-conway-notation [n1 n2] (str \"\\\\begin{equation} \\\\{\" n1 \"|\" n2 \"\\\\}\\\\end{equation}\"))"
   ]
  },
  {
   "cell_type": "code",
   "execution_count": 3,
   "id": "d4396d26",
   "metadata": {},
   "outputs": [
    {
     "data": {
      "text/markdown": [
       "\\begin{equation} \\{\\emptyset|\\emptyset\\}\\end{equation}"
      ]
     },
     "execution_count": 3,
     "metadata": {},
     "output_type": "execute_result"
    }
   ],
   "source": [
    "(display/markdown (simple-conway-notation \"\\\\emptyset\" \"\\\\emptyset\"))"
   ]
  },
  {
   "cell_type": "code",
   "execution_count": 4,
   "id": "cfb6ecc6",
   "metadata": {},
   "outputs": [
    {
     "data": {
      "text/markdown": [
       "\\begin{equation} \\{0|1\\}\\end{equation}"
      ]
     },
     "execution_count": 4,
     "metadata": {},
     "output_type": "execute_result"
    }
   ],
   "source": [
    "(display/markdown (simple-conway-notation 0 1))"
   ]
  },
  {
   "cell_type": "markdown",
   "id": "1cb64fa3",
   "metadata": {},
   "source": [
    "## Is it a number?\n",
    "Conway says that if an expression contains only numbers on the left and the right and if there is no number on the left equal to or greater than any number on the left, then the resulting expression is considered equal to a number.  Let's assume it's ok for now to represent the notation from the book as two Clojure vectors."
   ]
  },
  {
   "cell_type": "code",
   "execution_count": 5,
   "id": "7eefab02",
   "metadata": {},
   "outputs": [
    {
     "data": {
      "text/plain": [
       "#'user/is-number"
      ]
     },
     "execution_count": 5,
     "metadata": {},
     "output_type": "execute_result"
    }
   ],
   "source": [
    "(defn is-number [left right]\n",
    "    (if (= 0 (count right))\n",
    "           true\n",
    "           (let [least-r (reduce min right)\n",
    "                 greatest-l (reduce max left)]\n",
    "               (> least-r greatest-l))))"
   ]
  },
  {
   "cell_type": "code",
   "execution_count": null,
   "id": "76290bc0",
   "metadata": {},
   "outputs": [],
   "source": []
  },
  {
   "cell_type": "code",
   "execution_count": 6,
   "id": "ee98dc82",
   "metadata": {},
   "outputs": [
    {
     "data": {
      "text/plain": [
       "true"
      ]
     },
     "execution_count": 6,
     "metadata": {},
     "output_type": "execute_result"
    }
   ],
   "source": [
    "(is-number [1 2 3] [4 5 6])"
   ]
  },
  {
   "cell_type": "code",
   "execution_count": 7,
   "id": "029df6ed",
   "metadata": {},
   "outputs": [
    {
     "data": {
      "text/plain": [
       "true"
      ]
     },
     "execution_count": 7,
     "metadata": {},
     "output_type": "execute_result"
    }
   ],
   "source": [
    "(is-number [1 2 3] [])"
   ]
  },
  {
   "cell_type": "code",
   "execution_count": 8,
   "id": "4a0b8692",
   "metadata": {},
   "outputs": [
    {
     "data": {
      "text/plain": [
       "false"
      ]
     },
     "execution_count": 8,
     "metadata": {},
     "output_type": "execute_result"
    }
   ],
   "source": [
    "(is-number [2] [1])"
   ]
  },
  {
   "cell_type": "markdown",
   "id": "160cf7f9",
   "metadata": {},
   "source": [
    "A simple case of two nonempty sets that fit the rule, then an empty set for the right that can only pass, then an example of something that is not a number.  A minor improvement must be made to the notation code to display some of these scenarios:"
   ]
  },
  {
   "cell_type": "code",
   "execution_count": 9,
   "id": "ab7c2ae4",
   "metadata": {},
   "outputs": [
    {
     "data": {
      "text/plain": [
       "#'user/simple-conway-notation"
      ]
     },
     "execution_count": 9,
     "metadata": {},
     "output_type": "execute_result"
    }
   ],
   "source": [
    "(defn simple-conway-notation [n1 n2]\n",
    "    (str \"\\\\begin{equation} \\\\{\"\n",
    "         (clojure.string/join \",\" n1)\n",
    "         \"|\"\n",
    "         (clojure.string/join \",\" n2)\n",
    "         \"\\\\}\\\\end{equation}\"))"
   ]
  },
  {
   "cell_type": "code",
   "execution_count": 10,
   "id": "7605b17c",
   "metadata": {},
   "outputs": [
    {
     "data": {
      "text/plain": [
       "#'user/ask-is-num"
      ]
     },
     "execution_count": 10,
     "metadata": {},
     "output_type": "execute_result"
    }
   ],
   "source": [
    "(defn ask-is-num [left right]\n",
    "    (str (simple-conway-notation left right) \" \"\n",
    "         (if (is-number left right) \"is\" \"is not\")\n",
    "         \" a number\"))"
   ]
  },
  {
   "cell_type": "code",
   "execution_count": 11,
   "id": "68389d5f",
   "metadata": {},
   "outputs": [
    {
     "data": {
      "text/markdown": [
       "\\begin{equation} \\{1,2,3|4,5,6\\}\\end{equation} is a number\\begin{equation} \\{1,2,3|\\}\\end{equation} is a number\\begin{equation} \\{2|1\\}\\end{equation} is not a number"
      ]
     },
     "execution_count": 11,
     "metadata": {},
     "output_type": "execute_result"
    }
   ],
   "source": [
    "(display/markdown (str\n",
    "                   (ask-is-num [1 2 3] [4 5 6])\n",
    "                   (ask-is-num [1 2 3] [])\n",
    "                   (ask-is-num [2] [1])))"
   ]
  },
  {
   "cell_type": "markdown",
   "id": "98006b31",
   "metadata": {},
   "source": [
    "## Constructing some numbers in the new notation.\n",
    "Taking some numbers from the constructions for basic integers in the book and fully expanding them as lists of lists proves somewhat interesting."
   ]
  },
  {
   "cell_type": "code",
   "execution_count": 12,
   "id": "22721dd6",
   "metadata": {},
   "outputs": [
    {
     "data": {
      "text/plain": [
       "#'user/neg-one"
      ]
     },
     "execution_count": 12,
     "metadata": {},
     "output_type": "execute_result"
    }
   ],
   "source": [
    "(def empty-set [])\n",
    "(def zero [empty-set :bar empty-set])\n",
    "(def one [[zero] :bar empty-set])\n",
    "(def two [[one] :bar empty-set])\n",
    "(def neg-one [empty-set :bar [zero]])"
   ]
  },
  {
   "cell_type": "code",
   "execution_count": 13,
   "id": "8957ba0b",
   "metadata": {},
   "outputs": [
    {
     "data": {
      "text/plain": [
       "[[[[[[] :bar []]] :bar []]] :bar []]"
      ]
     },
     "execution_count": 13,
     "metadata": {},
     "output_type": "execute_result"
    }
   ],
   "source": [
    "two"
   ]
  },
  {
   "cell_type": "code",
   "execution_count": 14,
   "id": "24b00f32",
   "metadata": {},
   "outputs": [
    {
     "data": {
      "text/plain": [
       "[[] :bar []]"
      ]
     },
     "execution_count": 14,
     "metadata": {},
     "output_type": "execute_result"
    }
   ],
   "source": [
    "zero"
   ]
  },
  {
   "cell_type": "code",
   "execution_count": 15,
   "id": "5e6038f6",
   "metadata": {},
   "outputs": [
    {
     "data": {
      "text/plain": [
       "[[] :bar [[[] :bar []]]]"
      ]
     },
     "execution_count": 15,
     "metadata": {},
     "output_type": "execute_result"
    }
   ],
   "source": [
    "neg-one"
   ]
  },
  {
   "cell_type": "code",
   "execution_count": 16,
   "id": "52a6bbb0",
   "metadata": {},
   "outputs": [
    {
     "data": {
      "text/plain": [
       "#'user/incr"
      ]
     },
     "execution_count": 16,
     "metadata": {},
     "output_type": "execute_result"
    }
   ],
   "source": [
    "(defn incr [exp] [exp :bar []])"
   ]
  },
  {
   "cell_type": "code",
   "execution_count": 17,
   "id": "9d347f1e",
   "metadata": {},
   "outputs": [
    {
     "data": {
      "text/plain": [
       "[[[[[[[] :bar []]] :bar []]] :bar []] :bar []]"
      ]
     },
     "execution_count": 17,
     "metadata": {},
     "output_type": "execute_result"
    }
   ],
   "source": [
    "(incr two)"
   ]
  },
  {
   "cell_type": "code",
   "execution_count": 18,
   "id": "d4796371",
   "metadata": {},
   "outputs": [
    {
     "data": {
      "text/plain": [
       "[[[[[[[[] :bar []]] :bar []]] :bar []] :bar []] :bar []]"
      ]
     },
     "execution_count": 18,
     "metadata": {},
     "output_type": "execute_result"
    }
   ],
   "source": [
    "(incr (incr two))"
   ]
  },
  {
   "cell_type": "code",
   "execution_count": 19,
   "id": "aa8af59c",
   "metadata": {},
   "outputs": [
    {
     "data": {
      "text/plain": [
       "#'user/decr"
      ]
     },
     "execution_count": 19,
     "metadata": {},
     "output_type": "execute_result"
    }
   ],
   "source": [
    "(defn decr [exp] [[] :bar exp])"
   ]
  },
  {
   "cell_type": "code",
   "execution_count": 20,
   "id": "1a2d3c4d",
   "metadata": {},
   "outputs": [
    {
     "data": {
      "text/plain": [
       "[[] :bar [[] :bar [[[] :bar []]]]]"
      ]
     },
     "execution_count": 20,
     "metadata": {},
     "output_type": "execute_result"
    }
   ],
   "source": [
    "(decr neg-one)"
   ]
  },
  {
   "cell_type": "code",
   "execution_count": 21,
   "id": "2a3d645f",
   "metadata": {},
   "outputs": [
    {
     "data": {
      "text/plain": [
       "[[] :bar [[] :bar [[] :bar [[[] :bar []]]]]]"
      ]
     },
     "execution_count": 21,
     "metadata": {},
     "output_type": "execute_result"
    }
   ],
   "source": [
    "(decr (decr neg-one))"
   ]
  },
  {
   "cell_type": "markdown",
   "id": "6eb6a06d",
   "metadata": {},
   "source": [
    "The integers are symmetrical when you look at their negatives.  This kind of makes sense.  I thought it would be interesting to see the fully expanded set notation itself:"
   ]
  },
  {
   "cell_type": "code",
   "execution_count": 22,
   "id": "c358f72f",
   "metadata": {},
   "outputs": [
    {
     "data": {
      "text/plain": [
       "#'user/simple-conway-notation"
      ]
     },
     "execution_count": 22,
     "metadata": {},
     "output_type": "execute_result"
    }
   ],
   "source": [
    "(defn simple-conway-notation [expr]\n",
    "    (cond\n",
    "        (= 0 (count expr))\n",
    "        \"\\\\emptyset\"\n",
    "        (some #(= % :bar) expr)\n",
    "        (let [pre-bar (into [] (take-while #(not (= % :bar)) expr))\n",
    "              post-bar (drop (+ 1 (count pre-bar)) expr)]\n",
    "            (str\n",
    "             \"\\\\{\"\n",
    "             (clojure.string/join \",\" (map simple-conway-notation pre-bar))\n",
    "             \"|\"\n",
    "             (clojure.string/join \",\" (map simple-conway-notation post-bar))\n",
    "             \"\\\\}\"))\n",
    "        :else\n",
    "        (clojure.string/join \",\" (map simple-conway-notation expr))))"
   ]
  },
  {
   "cell_type": "code",
   "execution_count": 23,
   "id": "2c5b397f",
   "metadata": {
    "scrolled": true
   },
   "outputs": [
    {
     "data": {
      "text/markdown": [
       "\\begin{equation} -2 =\\{\\emptyset|\\{\\emptyset|\\{\\emptyset|\\emptyset\\}\\}\\}\\end{equation}"
      ]
     },
     "execution_count": 23,
     "metadata": {},
     "output_type": "execute_result"
    }
   ],
   "source": [
    "(display/markdown (str \"\\\\begin{equation} -2 =\" (simple-conway-notation (decr neg-one)) \"\\\\end{equation}\"))"
   ]
  },
  {
   "cell_type": "markdown",
   "id": "3fdfdeca",
   "metadata": {},
   "source": [
    "May as well make things easier"
   ]
  },
  {
   "cell_type": "code",
   "execution_count": 29,
   "id": "1e216c20",
   "metadata": {},
   "outputs": [
    {
     "data": {
      "text/plain": [
       "#'user/print-eq"
      ]
     },
     "execution_count": 29,
     "metadata": {},
     "output_type": "execute_result"
    }
   ],
   "source": [
    "(defn print-eq [note expr] \n",
    "    (display/markdown (str \"\\\\begin{equation}\"\n",
    "                           note \" \"\n",
    "                           (simple-conway-notation expr)\n",
    "                           \"\\\\end{equation}\")))"
   ]
  },
  {
   "cell_type": "code",
   "execution_count": 31,
   "id": "2e0d52db",
   "metadata": {},
   "outputs": [
    {
     "data": {
      "text/markdown": [
       "\\begin{equation}2 = \\{\\{\\{\\emptyset|\\emptyset\\}|\\emptyset\\}|\\emptyset\\}\\end{equation}"
      ]
     },
     "execution_count": 31,
     "metadata": {},
     "output_type": "execute_result"
    }
   ],
   "source": [
    "(print-eq \"2 =\" two)"
   ]
  }
 ],
 "metadata": {
  "kernelspec": {
   "display_name": "Clojure (clojupyter-0.4.335)",
   "language": "clojure",
   "name": "clojupyter-0.4.335"
  },
  "language_info": {
   "file_extension": ".clj",
   "mimetype": "text/x-clojure",
   "name": "clojure",
   "version": "1.11.3"
  }
 },
 "nbformat": 4,
 "nbformat_minor": 5
}
