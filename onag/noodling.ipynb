{
 "cells": [
  {
   "cell_type": "markdown",
   "id": "d3a697c9",
   "metadata": {},
   "source": [
    "# Noodling with ideas from On Numbers and Games\n",
    "\n",
    "The notation introduced in On Numbers, brief demo for my future usage:"
   ]
  },
  {
   "cell_type": "code",
   "execution_count": 1,
   "id": "98f35b38",
   "metadata": {},
   "outputs": [
    {
     "data": {
      "text/markdown": [
       "\\begin{equation}\n",
       "\\{ \\emptyset | \\emptyset \\}\n",
       "\\end{equation}"
      ]
     },
     "execution_count": 1,
     "metadata": {},
     "output_type": "execute_result"
    }
   ],
   "source": [
    "(require '[clojupyter.misc.display :as display])\n",
    "(display/markdown \"\\\\begin{equation}\n",
    "\\\\{ \\\\emptyset | \\\\emptyset \\\\}\n",
    "\\\\end{equation}\")"
   ]
  },
  {
   "cell_type": "markdown",
   "id": "95abf2f2",
   "metadata": {},
   "source": [
    "Need to come up with a manageable way not to have to do all escape characters all the time.\n",
    "\n",
    "\\begin{equation}\n",
    "\\{\\emptyset|\\emptyset\\}\n",
    "\\end{equation}"
   ]
  },
  {
   "cell_type": "code",
   "execution_count": 2,
   "id": "2231652d",
   "metadata": {},
   "outputs": [
    {
     "data": {
      "text/plain": [
       "#'user/simple-conway-notation"
      ]
     },
     "execution_count": 2,
     "metadata": {},
     "output_type": "execute_result"
    }
   ],
   "source": [
    "(defn simple-conway-notation [n1 n2] (str \"\\\\begin{equation} \\\\{\" n1 \"|\" n2 \"\\\\}\\\\end{equation}\"))"
   ]
  },
  {
   "cell_type": "code",
   "execution_count": 3,
   "id": "d4396d26",
   "metadata": {},
   "outputs": [
    {
     "data": {
      "text/markdown": [
       "\\begin{equation} \\{\\emptyset|\\emptyset\\}\\end{equation}"
      ]
     },
     "execution_count": 3,
     "metadata": {},
     "output_type": "execute_result"
    }
   ],
   "source": [
    "(display/markdown (simple-conway-notation \"\\\\emptyset\" \"\\\\emptyset\"))"
   ]
  },
  {
   "cell_type": "code",
   "execution_count": 4,
   "id": "cfb6ecc6",
   "metadata": {},
   "outputs": [
    {
     "data": {
      "text/markdown": [
       "\\begin{equation} \\{0|1\\}\\end{equation}"
      ]
     },
     "execution_count": 4,
     "metadata": {},
     "output_type": "execute_result"
    }
   ],
   "source": [
    "(display/markdown (simple-conway-notation 0 1))"
   ]
  },
  {
   "cell_type": "markdown",
   "id": "1cb64fa3",
   "metadata": {},
   "source": [
    "## Is it a number?\n",
    "Conway says that if an expression contains only numbers on the left and the right and if there is no number on the left equal to or greater than any number on the left, then the resulting expression is considered equal to a number.  Let's assume it's ok for now to represent the notation from the book as two Clojure vectors."
   ]
  },
  {
   "cell_type": "code",
   "execution_count": 24,
   "id": "7eefab02",
   "metadata": {},
   "outputs": [
    {
     "data": {
      "text/plain": [
       "#'user/is-number"
      ]
     },
     "execution_count": 24,
     "metadata": {},
     "output_type": "execute_result"
    }
   ],
   "source": [
    "(defn is-number [left right]\n",
    "    (if (= 0 (count right))\n",
    "           true\n",
    "           (let [least-r (reduce min right)\n",
    "                 greatest-l (reduce max left)]\n",
    "               (> least-r greatest-l))))"
   ]
  },
  {
   "cell_type": "code",
   "execution_count": null,
   "id": "76290bc0",
   "metadata": {},
   "outputs": [],
   "source": []
  },
  {
   "cell_type": "code",
   "execution_count": 25,
   "id": "ee98dc82",
   "metadata": {},
   "outputs": [
    {
     "data": {
      "text/html": [
       "true"
      ]
     },
     "execution_count": 25,
     "metadata": {},
     "output_type": "execute_result"
    }
   ],
   "source": [
    "(is-number [1 2 3] [4 5 6])"
   ]
  },
  {
   "cell_type": "code",
   "execution_count": 26,
   "id": "029df6ed",
   "metadata": {},
   "outputs": [
    {
     "data": {
      "text/html": [
       "true"
      ]
     },
     "execution_count": 26,
     "metadata": {},
     "output_type": "execute_result"
    }
   ],
   "source": [
    "(is-number [1 2 3] [])"
   ]
  },
  {
   "cell_type": "code",
   "execution_count": 27,
   "id": "4a0b8692",
   "metadata": {},
   "outputs": [
    {
     "data": {
      "text/html": [
       "false"
      ]
     },
     "execution_count": 27,
     "metadata": {},
     "output_type": "execute_result"
    }
   ],
   "source": [
    "(is-number [2] [1])"
   ]
  },
  {
   "cell_type": "markdown",
   "id": "160cf7f9",
   "metadata": {},
   "source": [
    "A simple case of two nonempty sets that fit the rule, then an empty set for the right that can only pass, then an example of something that is not a number.  A minor improvement must be made to the notation code to display some of these scenarios:"
   ]
  },
  {
   "cell_type": "code",
   "execution_count": 31,
   "id": "ab7c2ae4",
   "metadata": {},
   "outputs": [
    {
     "data": {
      "text/plain": [
       "#'user/simple-conway-notation"
      ]
     },
     "execution_count": 31,
     "metadata": {},
     "output_type": "execute_result"
    }
   ],
   "source": [
    "(defn simple-conway-notation [n1 n2]\n",
    "    (str \"\\\\begin{equation} \\\\{\"\n",
    "         (clojure.string/join \",\" n1)\n",
    "         \"|\"\n",
    "         (clojure.string/join \",\" n2)\n",
    "         \"\\\\}\\\\end{equation}\"))"
   ]
  },
  {
   "cell_type": "code",
   "execution_count": 34,
   "id": "7605b17c",
   "metadata": {},
   "outputs": [
    {
     "data": {
      "text/plain": [
       "#'user/ask-is-num"
      ]
     },
     "execution_count": 34,
     "metadata": {},
     "output_type": "execute_result"
    }
   ],
   "source": [
    "(defn ask-is-num [left right]\n",
    "    (str (simple-conway-notation left right) \" \"\n",
    "         (if (is-number left right) \"is\" \"is not\")\n",
    "         \" a number\"))"
   ]
  },
  {
   "cell_type": "code",
   "execution_count": 38,
   "id": "68389d5f",
   "metadata": {},
   "outputs": [
    {
     "data": {
      "text/markdown": [
       "\\begin{equation} \\{1,2,3|4,5,6\\}\\end{equation} is a number\\begin{equation} \\{1,2,3|\\}\\end{equation} is a number\\begin{equation} \\{2|1\\}\\end{equation} is not a number"
      ]
     },
     "execution_count": 38,
     "metadata": {},
     "output_type": "execute_result"
    }
   ],
   "source": [
    "(display/markdown (str\n",
    "                   (ask-is-num [1 2 3] [4 5 6])\n",
    "                   (ask-is-num [1 2 3] [])\n",
    "                   (ask-is-num [2] [1])))"
   ]
  },
  {
   "cell_type": "markdown",
   "id": "98006b31",
   "metadata": {},
   "source": [
    "## Greater than or equal\n",
    "From the book, to test $x \\ge y$ we will need the right side of the expression that makes up x and the left side of the expression that makes up y.  We're still assuming each instance of this notation can be represented by two Clojure vectors.  The problem now is that the definition for $x \\ge y$ is self referential.  There is a base case because of how the rule is phrased and because of the existence of the null set.  Here's an implementation of the base case:"
   ]
  },
  {
   "cell_type": "code",
   "execution_count": 50,
   "id": "843a6c50",
   "metadata": {},
   "outputs": [
    {
     "data": {
      "text/plain": [
       "#'user/x-gt-or-eq-y"
      ]
     },
     "execution_count": 50,
     "metadata": {},
     "output_type": "execute_result"
    }
   ],
   "source": [
    "(defn x-gt-or-eq-y [[x-left x-right] [y-left y-right]]\n",
    "    (let [x-r-empty (empty? x-right)\n",
    "          y-l-empty (empty? y-left)]\n",
    "        (if (and x-r-empty y-l-empty) true \"shrug\")))"
   ]
  },
  {
   "cell_type": "code",
   "execution_count": 49,
   "id": "0f7bafae",
   "metadata": {},
   "outputs": [
    {
     "data": {
      "text/html": [
       "shrug"
      ]
     },
     "execution_count": 49,
     "metadata": {},
     "output_type": "execute_result"
    }
   ],
   "source": [
    "(x-gt-or-eq-y [[1] [3]] [[-1] [1]])"
   ]
  },
  {
   "cell_type": "markdown",
   "id": "3712a0c6",
   "metadata": {},
   "source": [
    "The translation here is the question as to whether $\\{1|3\\}=2 \\ge \\{-1|1\\} = 0$ which is true but cannot be evaluated by the base case because none of the sets in this case are empty."
   ]
  },
  {
   "cell_type": "code",
   "execution_count": 51,
   "id": "47f31802",
   "metadata": {},
   "outputs": [
    {
     "data": {
      "text/html": [
       "true"
      ]
     },
     "execution_count": 51,
     "metadata": {},
     "output_type": "execute_result"
    }
   ],
   "source": [
    "(x-gt-or-eq-y [[1 2 3] []] [[] [1 2 3]])"
   ]
  },
  {
   "cell_type": "markdown",
   "id": "bddc4893",
   "metadata": {},
   "source": [
    "Translation: $\\{1,2,3|\\}= 4\\stackrel{?}{\\ge}\\{|1,2,3\\}= 0$\n",
    "\n",
    "This is easy for the base case code.  The recursive case forces me to stop using actual Clojure numbers because I want to keep the implementation in terms of the set notations.  Really this is all I was actually doing when I was only using whether the right of x is empty or the left of y is empty, so at this point strictly speaking the above, the input that led to a \"shrug\" in the earlier step is invalid and really so is the one immediately above."
   ]
  },
  {
   "cell_type": "code",
   "execution_count": null,
   "id": "6f0e8e68",
   "metadata": {},
   "outputs": [],
   "source": []
  }
 ],
 "metadata": {
  "kernelspec": {
   "display_name": "Clojure (clojupyter0.5.424-SNAPPY)",
   "language": "clojure",
   "name": "clojupyter0.5.424-snappy"
  },
  "language_info": {
   "file_extension": ".clj",
   "mimetype": "text/x-clojure",
   "name": "clojure",
   "version": "1.12.0"
  }
 },
 "nbformat": 4,
 "nbformat_minor": 5
}
