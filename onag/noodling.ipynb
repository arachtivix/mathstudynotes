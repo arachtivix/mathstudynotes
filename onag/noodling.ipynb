{
 "cells": [
  {
   "cell_type": "markdown",
   "id": "d3a697c9",
   "metadata": {},
   "source": [
    "# Noodling with ideas from On Numbers and Games\n",
    "\n",
    "The notation introduced in On Numbers, brief demo for my future usage:"
   ]
  },
  {
   "cell_type": "code",
   "execution_count": 1,
   "id": "98f35b38",
   "metadata": {},
   "outputs": [
    {
     "data": {
      "text/markdown": [
       "\\begin{equation}\n",
       "\\{ \\emptyset | \\emptyset \\}\n",
       "\\end{equation}"
      ]
     },
     "execution_count": 1,
     "metadata": {},
     "output_type": "execute_result"
    }
   ],
   "source": [
    "(require '[clojupyter.misc.display :as display])\n",
    "(display/markdown \"\\\\begin{equation}\n",
    "\\\\{ \\\\emptyset | \\\\emptyset \\\\}\n",
    "\\\\end{equation}\")"
   ]
  },
  {
   "cell_type": "markdown",
   "id": "95abf2f2",
   "metadata": {},
   "source": [
    "Need to come up with a manageable way not to have to do all escape characters all the time.\n",
    "\n",
    "\\begin{equation}\n",
    "\\{\\emptyset|\\emptyset\\}\n",
    "\\end{equation}"
   ]
  },
  {
   "cell_type": "code",
   "execution_count": 2,
   "id": "2231652d",
   "metadata": {},
   "outputs": [
    {
     "data": {
      "text/plain": [
       "#'user/simple-conway-notation"
      ]
     },
     "execution_count": 2,
     "metadata": {},
     "output_type": "execute_result"
    }
   ],
   "source": [
    "(defn simple-conway-notation [n1 n2] (str \"\\\\begin{equation} \\\\{\" n1 \"|\" n2 \"\\\\}\\\\end{equation}\"))"
   ]
  },
  {
   "cell_type": "code",
   "execution_count": 3,
   "id": "d4396d26",
   "metadata": {},
   "outputs": [
    {
     "data": {
      "text/markdown": [
       "\\begin{equation} \\{\\emptyset|\\emptyset\\}\\end{equation}"
      ]
     },
     "execution_count": 3,
     "metadata": {},
     "output_type": "execute_result"
    }
   ],
   "source": [
    "(display/markdown (simple-conway-notation \"\\\\emptyset\" \"\\\\emptyset\"))"
   ]
  },
  {
   "cell_type": "code",
   "execution_count": 4,
   "id": "cfb6ecc6",
   "metadata": {},
   "outputs": [
    {
     "data": {
      "text/markdown": [
       "\\begin{equation} \\{0|1\\}\\end{equation}"
      ]
     },
     "execution_count": 4,
     "metadata": {},
     "output_type": "execute_result"
    }
   ],
   "source": [
    "(display/markdown (simple-conway-notation 0 1))"
   ]
  },
  {
   "cell_type": "markdown",
   "id": "1cb64fa3",
   "metadata": {},
   "source": [
    "## Is it a number?\n",
    "Conway says that if an expression contains only numbers on the left and the right and if there is no number on the left equal to or greater than any number on the left, then the resulting expression is considered equal to a number.  Let's assume it's ok for now to represent the notation from the book as two Clojure vectors."
   ]
  },
  {
   "cell_type": "code",
   "execution_count": 5,
   "id": "7eefab02",
   "metadata": {},
   "outputs": [
    {
     "data": {
      "text/plain": [
       "#'user/is-number"
      ]
     },
     "execution_count": 5,
     "metadata": {},
     "output_type": "execute_result"
    }
   ],
   "source": [
    "(defn is-number [left right]\n",
    "    (if (= 0 (count right))\n",
    "           true\n",
    "           (let [least-r (reduce min right)\n",
    "                 greatest-l (reduce max left)]\n",
    "               (> least-r greatest-l))))"
   ]
  },
  {
   "cell_type": "code",
   "execution_count": null,
   "id": "76290bc0",
   "metadata": {},
   "outputs": [],
   "source": []
  },
  {
   "cell_type": "code",
   "execution_count": 6,
   "id": "ee98dc82",
   "metadata": {},
   "outputs": [
    {
     "data": {
      "text/plain": [
       "true"
      ]
     },
     "execution_count": 6,
     "metadata": {},
     "output_type": "execute_result"
    }
   ],
   "source": [
    "(is-number [1 2 3] [4 5 6])"
   ]
  },
  {
   "cell_type": "code",
   "execution_count": 7,
   "id": "029df6ed",
   "metadata": {},
   "outputs": [
    {
     "data": {
      "text/plain": [
       "true"
      ]
     },
     "execution_count": 7,
     "metadata": {},
     "output_type": "execute_result"
    }
   ],
   "source": [
    "(is-number [1 2 3] [])"
   ]
  },
  {
   "cell_type": "code",
   "execution_count": 8,
   "id": "4a0b8692",
   "metadata": {},
   "outputs": [
    {
     "data": {
      "text/plain": [
       "false"
      ]
     },
     "execution_count": 8,
     "metadata": {},
     "output_type": "execute_result"
    }
   ],
   "source": [
    "(is-number [2] [1])"
   ]
  },
  {
   "cell_type": "markdown",
   "id": "160cf7f9",
   "metadata": {},
   "source": [
    "A simple case of two nonempty sets that fit the rule, then an empty set for the right that can only pass, then an example of something that is not a number.  A minor improvement must be made to the notation code to display some of these scenarios:"
   ]
  },
  {
   "cell_type": "code",
   "execution_count": 9,
   "id": "ab7c2ae4",
   "metadata": {},
   "outputs": [
    {
     "data": {
      "text/plain": [
       "#'user/simple-conway-notation"
      ]
     },
     "execution_count": 9,
     "metadata": {},
     "output_type": "execute_result"
    }
   ],
   "source": [
    "(defn simple-conway-notation [n1 n2]\n",
    "    (str \"\\\\begin{equation} \\\\{\"\n",
    "         (clojure.string/join \",\" n1)\n",
    "         \"|\"\n",
    "         (clojure.string/join \",\" n2)\n",
    "         \"\\\\}\\\\end{equation}\"))"
   ]
  },
  {
   "cell_type": "code",
   "execution_count": 10,
   "id": "7605b17c",
   "metadata": {},
   "outputs": [
    {
     "data": {
      "text/plain": [
       "#'user/ask-is-num"
      ]
     },
     "execution_count": 10,
     "metadata": {},
     "output_type": "execute_result"
    }
   ],
   "source": [
    "(defn ask-is-num [left right]\n",
    "    (str (simple-conway-notation left right) \" \"\n",
    "         (if (is-number left right) \"is\" \"is not\")\n",
    "         \" a number\"))"
   ]
  },
  {
   "cell_type": "code",
   "execution_count": 11,
   "id": "68389d5f",
   "metadata": {},
   "outputs": [
    {
     "data": {
      "text/markdown": [
       "\\begin{equation} \\{1,2,3|4,5,6\\}\\end{equation} is a number\\begin{equation} \\{1,2,3|\\}\\end{equation} is a number\\begin{equation} \\{2|1\\}\\end{equation} is not a number"
      ]
     },
     "execution_count": 11,
     "metadata": {},
     "output_type": "execute_result"
    }
   ],
   "source": [
    "(display/markdown (str\n",
    "                   (ask-is-num [1 2 3] [4 5 6])\n",
    "                   (ask-is-num [1 2 3] [])\n",
    "                   (ask-is-num [2] [1])))"
   ]
  },
  {
   "cell_type": "markdown",
   "id": "98006b31",
   "metadata": {},
   "source": [
    "## Constructing some numbers in the new notation.\n",
    "Taking some numbers from the constructions for basic integers in the book and fully expanding them as lists of lists proves somewhat interesting."
   ]
  },
  {
   "cell_type": "code",
   "execution_count": 12,
   "id": "22721dd6",
   "metadata": {},
   "outputs": [
    {
     "data": {
      "text/plain": [
       "#'user/neg-one"
      ]
     },
     "execution_count": 12,
     "metadata": {},
     "output_type": "execute_result"
    }
   ],
   "source": [
    "(def empty-set [])\n",
    "(def zero [empty-set :bar empty-set])\n",
    "(def one [[zero] :bar empty-set])\n",
    "(def two [[one] :bar empty-set])\n",
    "(def neg-one [empty-set :bar [zero]])"
   ]
  },
  {
   "cell_type": "code",
   "execution_count": 13,
   "id": "8957ba0b",
   "metadata": {},
   "outputs": [
    {
     "data": {
      "text/plain": [
       "[[[[[[] :bar []]] :bar []]] :bar []]"
      ]
     },
     "execution_count": 13,
     "metadata": {},
     "output_type": "execute_result"
    }
   ],
   "source": [
    "two"
   ]
  },
  {
   "cell_type": "code",
   "execution_count": 14,
   "id": "24b00f32",
   "metadata": {},
   "outputs": [
    {
     "data": {
      "text/plain": [
       "[[] :bar []]"
      ]
     },
     "execution_count": 14,
     "metadata": {},
     "output_type": "execute_result"
    }
   ],
   "source": [
    "zero"
   ]
  },
  {
   "cell_type": "code",
   "execution_count": 15,
   "id": "5e6038f6",
   "metadata": {},
   "outputs": [
    {
     "data": {
      "text/plain": [
       "[[] :bar [[[] :bar []]]]"
      ]
     },
     "execution_count": 15,
     "metadata": {},
     "output_type": "execute_result"
    }
   ],
   "source": [
    "neg-one"
   ]
  },
  {
   "cell_type": "code",
   "execution_count": 16,
   "id": "52a6bbb0",
   "metadata": {},
   "outputs": [
    {
     "data": {
      "text/plain": [
       "#'user/incr"
      ]
     },
     "execution_count": 16,
     "metadata": {},
     "output_type": "execute_result"
    }
   ],
   "source": [
    "(defn incr [exp] [exp :bar []])"
   ]
  },
  {
   "cell_type": "code",
   "execution_count": 17,
   "id": "9d347f1e",
   "metadata": {},
   "outputs": [
    {
     "data": {
      "text/plain": [
       "[[[[[[[] :bar []]] :bar []]] :bar []] :bar []]"
      ]
     },
     "execution_count": 17,
     "metadata": {},
     "output_type": "execute_result"
    }
   ],
   "source": [
    "(incr two)"
   ]
  },
  {
   "cell_type": "code",
   "execution_count": 18,
   "id": "d4796371",
   "metadata": {},
   "outputs": [
    {
     "data": {
      "text/plain": [
       "[[[[[[[[] :bar []]] :bar []]] :bar []] :bar []] :bar []]"
      ]
     },
     "execution_count": 18,
     "metadata": {},
     "output_type": "execute_result"
    }
   ],
   "source": [
    "(incr (incr two))"
   ]
  },
  {
   "cell_type": "code",
   "execution_count": 19,
   "id": "aa8af59c",
   "metadata": {},
   "outputs": [
    {
     "data": {
      "text/plain": [
       "#'user/decr"
      ]
     },
     "execution_count": 19,
     "metadata": {},
     "output_type": "execute_result"
    }
   ],
   "source": [
    "(defn decr [exp] [[] :bar exp])"
   ]
  },
  {
   "cell_type": "code",
   "execution_count": 20,
   "id": "1a2d3c4d",
   "metadata": {},
   "outputs": [
    {
     "data": {
      "text/plain": [
       "[[] :bar [[] :bar [[[] :bar []]]]]"
      ]
     },
     "execution_count": 20,
     "metadata": {},
     "output_type": "execute_result"
    }
   ],
   "source": [
    "(decr neg-one)"
   ]
  },
  {
   "cell_type": "code",
   "execution_count": 21,
   "id": "2a3d645f",
   "metadata": {},
   "outputs": [
    {
     "data": {
      "text/plain": [
       "[[] :bar [[] :bar [[] :bar [[[] :bar []]]]]]"
      ]
     },
     "execution_count": 21,
     "metadata": {},
     "output_type": "execute_result"
    }
   ],
   "source": [
    "(decr (decr neg-one))"
   ]
  },
  {
   "cell_type": "markdown",
   "id": "6eb6a06d",
   "metadata": {},
   "source": [
    "The integers are symmetrical when you look at their negatives.  This kind of makes sense.  I thought it would be interesting to see the fully expanded set notation itself:"
   ]
  },
  {
   "cell_type": "code",
   "execution_count": 22,
   "id": "c358f72f",
   "metadata": {},
   "outputs": [
    {
     "data": {
      "text/plain": [
       "#'user/simple-conway-notation"
      ]
     },
     "execution_count": 22,
     "metadata": {},
     "output_type": "execute_result"
    }
   ],
   "source": [
    "(defn get-left [expr] (into [] (take-while #(not (= % :bar)) expr)))\n",
    "(defn get-right [expr] (drop (+ 1 (count (get-left expr))) expr))\n",
    "\n",
    "(defn simple-conway-notation [expr]\n",
    "    (cond\n",
    "        (= 0 (count expr))\n",
    "        \"\\\\emptyset\"\n",
    "        (some #(= % :bar) expr)\n",
    "        (let [pre-bar (get-left expr)\n",
    "              post-bar (get-right expr)]\n",
    "            (str\n",
    "             \"\\\\{\"\n",
    "             (clojure.string/join \",\" (map simple-conway-notation pre-bar))\n",
    "             \"|\"\n",
    "             (clojure.string/join \",\" (map simple-conway-notation post-bar))\n",
    "             \"\\\\}\"))\n",
    "        :else\n",
    "        (clojure.string/join \",\" (map simple-conway-notation expr))))"
   ]
  },
  {
   "cell_type": "code",
   "execution_count": 23,
   "id": "2c5b397f",
   "metadata": {
    "scrolled": true
   },
   "outputs": [
    {
     "data": {
      "text/markdown": [
       "\\begin{equation} -2 =\\{\\emptyset|\\{\\emptyset|\\{\\emptyset|\\emptyset\\}\\}\\}\\end{equation}"
      ]
     },
     "execution_count": 23,
     "metadata": {},
     "output_type": "execute_result"
    }
   ],
   "source": [
    "(display/markdown (str \"\\\\begin{equation} -2 =\" (simple-conway-notation (decr neg-one)) \"\\\\end{equation}\"))"
   ]
  },
  {
   "cell_type": "markdown",
   "id": "3fdfdeca",
   "metadata": {},
   "source": [
    "May as well make things easier"
   ]
  },
  {
   "cell_type": "code",
   "execution_count": 24,
   "id": "1e216c20",
   "metadata": {},
   "outputs": [
    {
     "data": {
      "text/plain": [
       "#'user/print-eq"
      ]
     },
     "execution_count": 24,
     "metadata": {},
     "output_type": "execute_result"
    }
   ],
   "source": [
    "(defn print-eq [note expr] \n",
    "    (display/markdown (str \"\\\\begin{equation}\"\n",
    "                           note \" \"\n",
    "                           (simple-conway-notation expr)\n",
    "                           \"\\\\end{equation}\")))"
   ]
  },
  {
   "cell_type": "code",
   "execution_count": 25,
   "id": "2e0d52db",
   "metadata": {},
   "outputs": [
    {
     "data": {
      "text/markdown": [
       "\\begin{equation}2 = \\{\\{\\{\\emptyset|\\emptyset\\}|\\emptyset\\}|\\emptyset\\}\\end{equation}"
      ]
     },
     "execution_count": 25,
     "metadata": {},
     "output_type": "execute_result"
    }
   ],
   "source": [
    "(print-eq \"2 =\" two)"
   ]
  },
  {
   "cell_type": "markdown",
   "id": "5dae4276",
   "metadata": {},
   "source": [
    "## The $\\ge$ implementation\n",
    "ONAG specifies the gte relation in terms of itself; it is recursive, but there is a base case.\n",
    "\n",
    "For inputs $x = \\{x^L|x^R\\}$ and $y = \\{y^L|y^R\\}$ Conway has constructed a definition of this relation that depends on the existence of the empty set. At some point in the process, he is counting on $x^R$ and $y^L$ resolving to the $\\emptyset$ and thereby trivially satisfying the \"no element of .... satisfies (whatever relation)\" because .... has no elements.\n",
    "\n",
    "Conway's definition says for the relation $x \\ge y$ to hold, there must be no $x^R \\leq y$ and no $y^L \\ge x$"
   ]
  },
  {
   "cell_type": "code",
   "execution_count": 26,
   "id": "43246dca",
   "metadata": {},
   "outputs": [
    {
     "data": {
      "text/markdown": [
       "\\begin{equation}1 =  \\{\\{\\emptyset|\\emptyset\\}|\\emptyset\\}\\end{equation}"
      ]
     },
     "execution_count": 26,
     "metadata": {},
     "output_type": "execute_result"
    }
   ],
   "source": [
    "(print-eq \"1 = \" one)"
   ]
  },
  {
   "cell_type": "code",
   "execution_count": 27,
   "id": "5157edd0",
   "metadata": {},
   "outputs": [
    {
     "data": {
      "text/markdown": [
       "\\begin{equation}0 =  \\{\\emptyset|\\emptyset\\}\\end{equation}"
      ]
     },
     "execution_count": 27,
     "metadata": {},
     "output_type": "execute_result"
    }
   ],
   "source": [
    "(print-eq \"0 = \" zero)"
   ]
  },
  {
   "cell_type": "markdown",
   "id": "e0114fbb",
   "metadata": {},
   "source": [
    "In order to establish that $1 \\ge 0$ we must know $1^R=\\emptyset$ and $0^L=\\emptyset$\n",
    "\n",
    "Since there are no elements in $0^L$, that part trivially passes.\n",
    "\n",
    "$1^R$ is also $\\emptyset$ so that also trivially passes, so now we know $1 \\ge 0$.  In this way I am starting to understand the notation a little better -- if $\\{set1|set2\\}$ is a number, then that number is the value _exactly between_ those two sets.  This does not produce a unique value for every combination of sets, but the equality relation actually comes later.  Right now we do not even know that!\n",
    "\n",
    "Now for a stab at a gte base case implentation, assuming both expr1 and expr2 are numbers:"
   ]
  },
  {
   "cell_type": "code",
   "execution_count": 28,
   "id": "b4a3c067",
   "metadata": {},
   "outputs": [
    {
     "data": {
      "text/plain": [
       "#'user/satisfies-gte-base-case"
      ]
     },
     "execution_count": 28,
     "metadata": {},
     "output_type": "execute_result"
    }
   ],
   "source": [
    "(defn satisfies-gte-base-case [exp1 exp2] ; read as: testing whether exp1 gte exp2 according to the base case\n",
    "    (let [e1-right (into [] (get-right exp1))\n",
    "          e2-left (into [] (get-left exp2))]\n",
    "        (and (= 1 (count e1-right))\n",
    "             (= 1 (count e2-left))\n",
    "             (= 0 (count (e1-right 0)))\n",
    "             (= 0 (count (e2-left 0))))))"
   ]
  },
  {
   "cell_type": "code",
   "execution_count": 29,
   "id": "a675b063",
   "metadata": {},
   "outputs": [
    {
     "data": {
      "text/plain": [
       "true"
      ]
     },
     "execution_count": 29,
     "metadata": {},
     "output_type": "execute_result"
    }
   ],
   "source": [
    "(satisfies-gte-base-case one zero)"
   ]
  },
  {
   "cell_type": "code",
   "execution_count": 30,
   "id": "6b6ed748",
   "metadata": {},
   "outputs": [
    {
     "data": {
      "text/plain": [
       "true"
      ]
     },
     "execution_count": 30,
     "metadata": {},
     "output_type": "execute_result"
    }
   ],
   "source": [
    "(satisfies-gte-base-case zero neg-one)"
   ]
  },
  {
   "cell_type": "code",
   "execution_count": 31,
   "id": "61f13650",
   "metadata": {},
   "outputs": [
    {
     "data": {
      "text/plain": [
       "false"
      ]
     },
     "execution_count": 31,
     "metadata": {},
     "output_type": "execute_result"
    }
   ],
   "source": [
    "(satisfies-gte-base-case zero one)"
   ]
  },
  {
   "cell_type": "code",
   "execution_count": 32,
   "id": "e8bf4ab7",
   "metadata": {},
   "outputs": [
    {
     "data": {
      "text/plain": [
       "false"
      ]
     },
     "execution_count": 32,
     "metadata": {},
     "output_type": "execute_result"
    }
   ],
   "source": [
    "(satisfies-gte-base-case neg-one zero)"
   ]
  },
  {
   "cell_type": "markdown",
   "id": "2001fe7a",
   "metadata": {},
   "source": [
    "Initially I thought these two trues were the only uses of the base case, but there are more."
   ]
  },
  {
   "cell_type": "code",
   "execution_count": 33,
   "id": "39f52d5a",
   "metadata": {},
   "outputs": [
    {
     "data": {
      "text/plain": [
       "true"
      ]
     },
     "execution_count": 33,
     "metadata": {},
     "output_type": "execute_result"
    }
   ],
   "source": [
    "(satisfies-gte-base-case two zero)"
   ]
  },
  {
   "cell_type": "code",
   "execution_count": 34,
   "id": "b949cb36",
   "metadata": {},
   "outputs": [
    {
     "data": {
      "text/plain": [
       "true"
      ]
     },
     "execution_count": 34,
     "metadata": {},
     "output_type": "execute_result"
    }
   ],
   "source": [
    "(satisfies-gte-base-case zero (decr neg-one))"
   ]
  },
  {
   "cell_type": "markdown",
   "id": "b898adff",
   "metadata": {},
   "source": [
    "Since it's greater than _or equal_, we should expect some equals cases to pass:"
   ]
  },
  {
   "cell_type": "code",
   "execution_count": 35,
   "id": "a36038c6",
   "metadata": {},
   "outputs": [
    {
     "data": {
      "text/plain": [
       "true"
      ]
     },
     "execution_count": 35,
     "metadata": {},
     "output_type": "execute_result"
    }
   ],
   "source": [
    "(satisfies-gte-base-case zero zero)"
   ]
  },
  {
   "cell_type": "markdown",
   "id": "ac7aa77a",
   "metadata": {},
   "source": [
    "but really only that one above...."
   ]
  },
  {
   "cell_type": "code",
   "execution_count": 36,
   "id": "4c7b77a5",
   "metadata": {},
   "outputs": [
    {
     "data": {
      "text/plain": [
       "false"
      ]
     },
     "execution_count": 36,
     "metadata": {},
     "output_type": "execute_result"
    }
   ],
   "source": [
    "(satisfies-gte-base-case one one)"
   ]
  },
  {
   "cell_type": "markdown",
   "id": "865be854",
   "metadata": {},
   "source": [
    "There are plenty of cases that require the recursive step though, as these will be true once that is in place:"
   ]
  },
  {
   "cell_type": "code",
   "execution_count": 37,
   "id": "8b4fc5e3",
   "metadata": {},
   "outputs": [
    {
     "data": {
      "text/plain": [
       "false"
      ]
     },
     "execution_count": 37,
     "metadata": {},
     "output_type": "execute_result"
    }
   ],
   "source": [
    "(satisfies-gte-base-case two one)"
   ]
  },
  {
   "cell_type": "code",
   "execution_count": 38,
   "id": "c0c3f8dc",
   "metadata": {},
   "outputs": [
    {
     "data": {
      "text/plain": [
       "#'user/half"
      ]
     },
     "execution_count": 38,
     "metadata": {},
     "output_type": "execute_result"
    }
   ],
   "source": [
    "(def half [zero :bar one])"
   ]
  },
  {
   "cell_type": "code",
   "execution_count": 39,
   "id": "7ae901ad",
   "metadata": {},
   "outputs": [
    {
     "data": {
      "text/plain": [
       "false"
      ]
     },
     "execution_count": 39,
     "metadata": {},
     "output_type": "execute_result"
    }
   ],
   "source": [
    "(satisfies-gte-base-case half zero)"
   ]
  },
  {
   "cell_type": "markdown",
   "id": "eb5b2739",
   "metadata": {},
   "source": [
    "The recursive implementation will take the same arguments, of course.  Again for $x \\ge y$ to hold, there must be no $x^R \\leq y$ and no $y^L \\ge x$.  This implementation seems to be partially correct -- see the examples below"
   ]
  },
  {
   "cell_type": "code",
   "execution_count": 40,
   "id": "e5d217e3",
   "metadata": {},
   "outputs": [
    {
     "data": {
      "text/plain": [
       "#'user/satisfies-gte-simple"
      ]
     },
     "execution_count": 40,
     "metadata": {},
     "output_type": "execute_result"
    }
   ],
   "source": [
    "(defn satisfies-gte-simple [x-expression y-expression] ; again reading as is-exp1-gte-exp2?\n",
    "    (or (satisfies-gte-base-case x-expression y-expression)\n",
    "        (let [all-x-r (get-right x-expression)\n",
    "              all-y-l (get-left y-expression)\n",
    "              violating-x-r (some #(satisfies-gte-simple y-expression %) all-x-r)\n",
    "              violating-y-l (some #(satisfies-gte-simple % x-expression) all-y-l)]\n",
    "            (and (not violating-x-r) (not violating-y-l)))))"
   ]
  },
  {
   "cell_type": "code",
   "execution_count": 41,
   "id": "403fea85",
   "metadata": {},
   "outputs": [
    {
     "data": {
      "text/plain": [
       "true"
      ]
     },
     "execution_count": 41,
     "metadata": {},
     "output_type": "execute_result"
    }
   ],
   "source": [
    "(satisfies-gte-simple two one)"
   ]
  },
  {
   "cell_type": "code",
   "execution_count": 42,
   "id": "e7042ee7",
   "metadata": {},
   "outputs": [
    {
     "data": {
      "text/plain": [
       "false"
      ]
     },
     "execution_count": 42,
     "metadata": {},
     "output_type": "execute_result"
    }
   ],
   "source": [
    "(satisfies-gte-simple half zero) ; this does not result in the correct output"
   ]
  },
  {
   "cell_type": "code",
   "execution_count": 43,
   "id": "a1f01939",
   "metadata": {},
   "outputs": [
    {
     "data": {
      "text/plain": [
       "true"
      ]
     },
     "execution_count": 43,
     "metadata": {},
     "output_type": "execute_result"
    }
   ],
   "source": [
    "(satisfies-gte-simple one neg-one)"
   ]
  },
  {
   "cell_type": "code",
   "execution_count": 73,
   "id": "75289ef4",
   "metadata": {},
   "outputs": [
    {
     "data": {
      "text/plain": [
       "#'user/solve-gt-scenario-template"
      ]
     },
     "execution_count": 73,
     "metadata": {},
     "output_type": "execute_result"
    }
   ],
   "source": [
    "(defn solve-gt-scenario-template [exp1 exp2]\n",
    "    {\n",
    "     :problem-stack '([exp1 exp2])\n",
    "     :solved {}\n",
    "     :subproblems {}\n",
    "    })"
   ]
  },
  {
   "cell_type": "code",
   "execution_count": 81,
   "id": "dc250053",
   "metadata": {},
   "outputs": [
    {
     "data": {
      "text/plain": [
       "#'user/get-gt-subproblems"
      ]
     },
     "execution_count": 81,
     "metadata": {},
     "output_type": "execute_result"
    }
   ],
   "source": [
    "(defn get-gt-subproblems [x-expression y-expression]\n",
    "    (let [all-x-r (get-right x-expression)\n",
    "          all-y-l (get-left y-expression)]\n",
    "        (concat\n",
    "         (map #(vector y-expression %) all-x-r)\n",
    "         (map #(vector % x-expression) all-y-l))))"
   ]
  },
  {
   "cell_type": "code",
   "execution_count": 82,
   "id": "4d785790",
   "metadata": {},
   "outputs": [
    {
     "data": {
      "text/plain": [
       "([[[] :bar [[[] :bar []]]] []] [[] [[[[[[] :bar []]] :bar []]] :bar []]])"
      ]
     },
     "execution_count": 82,
     "metadata": {},
     "output_type": "execute_result"
    }
   ],
   "source": [
    "(get-gt-subproblems two neg-one)"
   ]
  },
  {
   "cell_type": "code",
   "execution_count": 88,
   "id": "5549b181",
   "metadata": {},
   "outputs": [
    {
     "data": {
      "text/plain": [
       "(false false)"
      ]
     },
     "execution_count": 88,
     "metadata": {},
     "output_type": "execute_result"
    }
   ],
   "source": [
    "(map #(satisfies-gte-base-case (% 0) (% 1)) (get-gt-subproblems one zero))"
   ]
  },
  {
   "cell_type": "code",
   "execution_count": null,
   "id": "81dc3ac4",
   "metadata": {},
   "outputs": [],
   "source": []
  }
 ],
 "metadata": {
  "kernelspec": {
   "display_name": "Clojure (clojupyter-0.4.335)",
   "language": "clojure",
   "name": "clojupyter-0.4.335"
  },
  "language_info": {
   "file_extension": ".clj",
   "mimetype": "text/x-clojure",
   "name": "clojure",
   "version": "1.11.3"
  }
 },
 "nbformat": 4,
 "nbformat_minor": 5
}
