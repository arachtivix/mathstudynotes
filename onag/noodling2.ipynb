{
 "cells": [
  {
   "cell_type": "code",
   "execution_count": 20,
   "id": "1fd16cf2",
   "metadata": {},
   "outputs": [
    {
     "data": {
      "text/plain": [
       "#'user/gte-in-words"
      ]
     },
     "execution_count": 20,
     "metadata": {},
     "output_type": "execute_result"
    }
   ],
   "source": [
    "(defn gte-in-words [exp1 exp2]\n",
    "    (str \"is every element in \" (exp1 :right) \" greater than or equal to \" exp2\n",
    "         \" and is \" exp1 \" greater than or equal to every element in \" (exp2 :left)))"
   ]
  },
  {
   "cell_type": "code",
   "execution_count": 21,
   "id": "584e6dcb",
   "metadata": {},
   "outputs": [
    {
     "data": {
      "text/plain": [
       "#'user/zero"
      ]
     },
     "execution_count": 21,
     "metadata": {},
     "output_type": "execute_result"
    }
   ],
   "source": [
    "(def zero {:left :nullset :right :nullset})"
   ]
  },
  {
   "cell_type": "code",
   "execution_count": 22,
   "id": "82d9a5ce",
   "metadata": {},
   "outputs": [
    {
     "data": {
      "text/plain": [
       "\"is every element in :nullset greater than or equal to {:left :nullset, :right :nullset} and is {:left :nullset, :right :nullset} greater than or equal to every element in :nullset\""
      ]
     },
     "execution_count": 22,
     "metadata": {},
     "output_type": "execute_result"
    }
   ],
   "source": [
    "(gte-in-words zero zero)"
   ]
  },
  {
   "cell_type": "code",
   "execution_count": 30,
   "id": "0e68bc38",
   "metadata": {},
   "outputs": [
    {
     "data": {
      "text/plain": [
       "#'user/gte-vacuously-true"
      ]
     },
     "execution_count": 30,
     "metadata": {},
     "output_type": "execute_result"
    }
   ],
   "source": [
    "(defn gte-vacuously-true [exp1 exp2]\n",
    "    (let [exp1-is-empty (= :nullset (exp1 :left))\n",
    "          exp2-is-empty (= :nullset (exp2 :right))]\n",
    "        (and exp1-is-empty exp2-is-empty)))"
   ]
  },
  {
   "cell_type": "markdown",
   "id": "5f5db1f8",
   "metadata": {},
   "source": [
    "test case 1"
   ]
  },
  {
   "cell_type": "code",
   "execution_count": 31,
   "id": "a73357ed",
   "metadata": {},
   "outputs": [
    {
     "data": {
      "text/plain": [
       "true"
      ]
     },
     "execution_count": 31,
     "metadata": {},
     "output_type": "execute_result"
    }
   ],
   "source": [
    "(gte-vacuously-true zero zero)"
   ]
  },
  {
   "cell_type": "code",
   "execution_count": 27,
   "id": "1b09654e",
   "metadata": {},
   "outputs": [
    {
     "data": {
      "text/plain": [
       "#'user/one"
      ]
     },
     "execution_count": 27,
     "metadata": {},
     "output_type": "execute_result"
    }
   ],
   "source": [
    "(def one {:left zero :right :nullset})"
   ]
  },
  {
   "cell_type": "markdown",
   "id": "1d314eb1",
   "metadata": {},
   "source": [
    "next test case"
   ]
  },
  {
   "cell_type": "code",
   "execution_count": 32,
   "id": "dab2c264",
   "metadata": {},
   "outputs": [
    {
     "data": {
      "text/plain": [
       "false"
      ]
     },
     "execution_count": 32,
     "metadata": {},
     "output_type": "execute_result"
    }
   ],
   "source": [
    "(gte-vacuously-true one zero)"
   ]
  },
  {
   "cell_type": "markdown",
   "id": "5b0d84ba",
   "metadata": {},
   "source": [
    "Let's make a shorthand that can easily expand left and right when using the empty set:"
   ]
  },
  {
   "cell_type": "code",
   "execution_count": 45,
   "id": "6643bcac",
   "metadata": {},
   "outputs": [
    {
     "data": {
      "text/plain": [
       "#'user/expand-simple-empty-set"
      ]
     },
     "execution_count": 45,
     "metadata": {},
     "output_type": "execute_result"
    }
   ],
   "source": [
    "(defn expand-simple-empty-set [thing]\n",
    "    (cond \n",
    "        (and (not (thing :left)) (not (thing :right)))\n",
    "        zero\n",
    "        (not (thing :right)) (assoc thing :right :nullset)\n",
    "        (not (thing :left)) (assoc thing :left :nullset)\n",
    "        :else thing))"
   ]
  },
  {
   "cell_type": "code",
   "execution_count": 46,
   "id": "c0c9817c",
   "metadata": {},
   "outputs": [
    {
     "data": {
      "text/plain": [
       "{:left :nullset, :right :nullset}"
      ]
     },
     "execution_count": 46,
     "metadata": {},
     "output_type": "execute_result"
    }
   ],
   "source": [
    "(expand-simple-empty-set {})"
   ]
  },
  {
   "cell_type": "code",
   "execution_count": 47,
   "id": "c009e822",
   "metadata": {},
   "outputs": [
    {
     "data": {
      "text/plain": [
       "{:left 8, :right :nullset}"
      ]
     },
     "execution_count": 47,
     "metadata": {},
     "output_type": "execute_result"
    }
   ],
   "source": [
    "(expand-simple-empty-set {:left 8})"
   ]
  },
  {
   "cell_type": "code",
   "execution_count": 48,
   "id": "25b0c044",
   "metadata": {},
   "outputs": [
    {
     "data": {
      "text/plain": [
       "{:right \"asdf\", :left :nullset}"
      ]
     },
     "execution_count": 48,
     "metadata": {},
     "output_type": "execute_result"
    }
   ],
   "source": [
    "(expand-simple-empty-set {:right \"asdf\"})"
   ]
  },
  {
   "cell_type": "code",
   "execution_count": 49,
   "id": "d8915efc",
   "metadata": {},
   "outputs": [
    {
     "data": {
      "text/plain": [
       "{:left 8, :right 19}"
      ]
     },
     "execution_count": 49,
     "metadata": {},
     "output_type": "execute_result"
    }
   ],
   "source": [
    "(expand-simple-empty-set {:left 8 :right 19})"
   ]
  },
  {
   "cell_type": "markdown",
   "id": "919fbdc1",
   "metadata": {},
   "source": [
    "Let's try answering the question for just numbers of the form $\\{n|\\}$ or $\\{|n\\}$ where $n$ is an integer or when the expression is $\\{|\\}$.  First, let's detect whether it is the case:"
   ]
  },
  {
   "cell_type": "code",
   "execution_count": 50,
   "id": "13b68c5b",
   "metadata": {},
   "outputs": [
    {
     "data": {
      "text/plain": [
       "#'user/is-simple-integer-form"
      ]
     },
     "execution_count": 50,
     "metadata": {},
     "output_type": "execute_result"
    }
   ],
   "source": [
    "(defn is-simple-integer-form [exp]\n",
    "    (let [expanded (expand-simple-empty-set exp)\n",
    "          e-left (expanded :left)\n",
    "          e-right (expanded :right)\n",
    "          l-is-empty (= :nullset e-left)\n",
    "          r-is-empty (= :nullset e-right)\n",
    "          l-is-int (integer? e-left)\n",
    "          r-is-int (integer? e-right)]\n",
    "        (or (and l-is-empty r-is-int)\n",
    "            (and r-is-empty l-is-int)\n",
    "            (and l-is-empty r-is-empty))))"
   ]
  },
  {
   "cell_type": "code",
   "execution_count": 51,
   "id": "472aa206",
   "metadata": {},
   "outputs": [
    {
     "data": {
      "text/plain": [
       "true"
      ]
     },
     "execution_count": 51,
     "metadata": {},
     "output_type": "execute_result"
    }
   ],
   "source": [
    "(is-simple-integer-form zero)"
   ]
  },
  {
   "cell_type": "code",
   "execution_count": 53,
   "id": "71ed96ef",
   "metadata": {},
   "outputs": [
    {
     "data": {
      "text/plain": [
       "false"
      ]
     },
     "execution_count": 53,
     "metadata": {},
     "output_type": "execute_result"
    }
   ],
   "source": [
    "(is-simple-integer-form {:left 1 :right \"potato\"})"
   ]
  },
  {
   "cell_type": "code",
   "execution_count": 54,
   "id": "5f56ba8c",
   "metadata": {},
   "outputs": [
    {
     "data": {
      "text/plain": [
       "false"
      ]
     },
     "execution_count": 54,
     "metadata": {},
     "output_type": "execute_result"
    }
   ],
   "source": [
    "(is-simple-integer-form {:left \"asdf\" :right 3})"
   ]
  },
  {
   "cell_type": "code",
   "execution_count": 55,
   "id": "0e66a75c",
   "metadata": {},
   "outputs": [
    {
     "data": {
      "text/plain": [
       "true"
      ]
     },
     "execution_count": 55,
     "metadata": {},
     "output_type": "execute_result"
    }
   ],
   "source": [
    "(is-simple-integer-form {:left 1})"
   ]
  },
  {
   "cell_type": "code",
   "execution_count": 57,
   "id": "7127b9b4",
   "metadata": {},
   "outputs": [
    {
     "data": {
      "text/plain": [
       "true"
      ]
     },
     "execution_count": 57,
     "metadata": {},
     "output_type": "execute_result"
    }
   ],
   "source": [
    "(is-simple-integer-form {:right -100})"
   ]
  },
  {
   "cell_type": "code",
   "execution_count": 58,
   "id": "0fd8e9b4",
   "metadata": {},
   "outputs": [
    {
     "data": {
      "text/plain": [
       "false"
      ]
     },
     "execution_count": 58,
     "metadata": {},
     "output_type": "execute_result"
    }
   ],
   "source": [
    "(is-simple-integer-form {:left 0 :right 1})"
   ]
  },
  {
   "cell_type": "markdown",
   "id": "8cfe6671",
   "metadata": {},
   "source": [
    "That last one is important -- we don't want to handle fractional cases yet, or anything other than the expected form.  Now let's resolve simple integer forms to straight integers:"
   ]
  },
  {
   "cell_type": "code",
   "execution_count": 89,
   "id": "72cee679",
   "metadata": {},
   "outputs": [
    {
     "data": {
      "text/plain": [
       "#'user/basic-integer-form-to-int"
      ]
     },
     "execution_count": 89,
     "metadata": {},
     "output_type": "execute_result"
    }
   ],
   "source": [
    "(defn basic-integer-form-to-int [exp]\n",
    "    (if (is-simple-integer-form exp)\n",
    "        (let [expanded (expand-simple-empty-set exp)]\n",
    "            (cond (= zero expanded) 0\n",
    "                  (= :nullset (expanded :left)) (- (expanded :right) 1)\n",
    "                  :else (+ (expanded :left) 1)))))"
   ]
  },
  {
   "cell_type": "code",
   "execution_count": 91,
   "id": "7e9b9992",
   "metadata": {},
   "outputs": [
    {
     "data": {
      "text/plain": [
       "2"
      ]
     },
     "execution_count": 91,
     "metadata": {},
     "output_type": "execute_result"
    }
   ],
   "source": [
    "(basic-integer-form-to-int {:left 1})"
   ]
  },
  {
   "cell_type": "code",
   "execution_count": 90,
   "id": "d421d815",
   "metadata": {},
   "outputs": [
    {
     "data": {
      "text/plain": [
       "-101"
      ]
     },
     "execution_count": 90,
     "metadata": {},
     "output_type": "execute_result"
    }
   ],
   "source": [
    "(basic-integer-form-to-int {:right -100})"
   ]
  },
  {
   "cell_type": "markdown",
   "id": "53b71ab0",
   "metadata": {},
   "source": [
    "Let's try gte for simple integer forms:"
   ]
  },
  {
   "cell_type": "code",
   "execution_count": null,
   "id": "c46cbc3a",
   "metadata": {},
   "outputs": [],
   "source": [
    "(defn gte-simple-integer-form [exp1 exp2]\n",
    "    (if (and (is-simple-integer-form exp1) (is-simple-integer-form exp2))\n",
    "        (let [e1-right (exp1 :right)\n",
    "              e2-left (exp2 :left)]\n",
    "            ;; to be continued)\n",
    "        (str \"hey what is this \" exp1 \" &&& \" exp2 \" you gave me? At least one of them is not a simple integer form\")))"
   ]
  }
 ],
 "metadata": {
  "kernelspec": {
   "display_name": "Clojure (clojupyter-0.4.335)",
   "language": "clojure",
   "name": "clojupyter-0.4.335"
  },
  "language_info": {
   "file_extension": ".clj",
   "mimetype": "text/x-clojure",
   "name": "clojure",
   "version": "1.11.3"
  }
 },
 "nbformat": 4,
 "nbformat_minor": 5
}
