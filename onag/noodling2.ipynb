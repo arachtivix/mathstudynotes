{
 "cells": [
  {
   "cell_type": "code",
   "execution_count": 1,
   "id": "1fd16cf2",
   "metadata": {},
   "outputs": [
    {
     "data": {
      "text/plain": [
       "#'user/gte-in-words"
      ]
     },
     "execution_count": 1,
     "metadata": {},
     "output_type": "execute_result"
    }
   ],
   "source": [
    "(defn gte-in-words [exp1 exp2]\n",
    "    (str \"is every element in \" (exp1 :right) \" greater than or equal to \" exp2\n",
    "         \" and is \" exp1 \" greater than or equal to every element in \" (exp2 :left)))"
   ]
  },
  {
   "cell_type": "code",
   "execution_count": 2,
   "id": "584e6dcb",
   "metadata": {},
   "outputs": [
    {
     "data": {
      "text/plain": [
       "#'user/zero"
      ]
     },
     "execution_count": 2,
     "metadata": {},
     "output_type": "execute_result"
    }
   ],
   "source": [
    "(def zero {:left :nullset :right :nullset})"
   ]
  },
  {
   "cell_type": "code",
   "execution_count": 3,
   "id": "82d9a5ce",
   "metadata": {},
   "outputs": [
    {
     "data": {
      "text/plain": [
       "\"is every element in :nullset greater than or equal to {:left :nullset, :right :nullset} and is {:left :nullset, :right :nullset} greater than or equal to every element in :nullset\""
      ]
     },
     "execution_count": 3,
     "metadata": {},
     "output_type": "execute_result"
    }
   ],
   "source": [
    "(gte-in-words zero zero)"
   ]
  },
  {
   "cell_type": "code",
   "execution_count": 4,
   "id": "0e68bc38",
   "metadata": {},
   "outputs": [
    {
     "data": {
      "text/plain": [
       "#'user/gte-vacuously-true"
      ]
     },
     "execution_count": 4,
     "metadata": {},
     "output_type": "execute_result"
    }
   ],
   "source": [
    "(defn gte-vacuously-true [exp1 exp2]\n",
    "    (let [exp1-is-empty (= :nullset (exp1 :left))\n",
    "          exp2-is-empty (= :nullset (exp2 :right))]\n",
    "        (and exp1-is-empty exp2-is-empty)))"
   ]
  },
  {
   "cell_type": "markdown",
   "id": "5f5db1f8",
   "metadata": {},
   "source": [
    "test case 1"
   ]
  },
  {
   "cell_type": "code",
   "execution_count": 5,
   "id": "a73357ed",
   "metadata": {},
   "outputs": [
    {
     "data": {
      "text/plain": [
       "true"
      ]
     },
     "execution_count": 5,
     "metadata": {},
     "output_type": "execute_result"
    }
   ],
   "source": [
    "(gte-vacuously-true zero zero)"
   ]
  },
  {
   "cell_type": "code",
   "execution_count": 6,
   "id": "1b09654e",
   "metadata": {},
   "outputs": [
    {
     "data": {
      "text/plain": [
       "#'user/one"
      ]
     },
     "execution_count": 6,
     "metadata": {},
     "output_type": "execute_result"
    }
   ],
   "source": [
    "(def one {:left zero :right :nullset})"
   ]
  },
  {
   "cell_type": "markdown",
   "id": "1d314eb1",
   "metadata": {},
   "source": [
    "next test case"
   ]
  },
  {
   "cell_type": "code",
   "execution_count": 7,
   "id": "dab2c264",
   "metadata": {},
   "outputs": [
    {
     "data": {
      "text/plain": [
       "false"
      ]
     },
     "execution_count": 7,
     "metadata": {},
     "output_type": "execute_result"
    }
   ],
   "source": [
    "(gte-vacuously-true one zero)"
   ]
  },
  {
   "cell_type": "markdown",
   "id": "5b0d84ba",
   "metadata": {},
   "source": [
    "Let's make a shorthand that can easily expand left and right when using the empty set:"
   ]
  },
  {
   "cell_type": "code",
   "execution_count": 8,
   "id": "6643bcac",
   "metadata": {},
   "outputs": [
    {
     "data": {
      "text/plain": [
       "#'user/expand-simple-empty-set"
      ]
     },
     "execution_count": 8,
     "metadata": {},
     "output_type": "execute_result"
    }
   ],
   "source": [
    "(defn expand-simple-empty-set [thing]\n",
    "    (cond \n",
    "        (and (not (thing :left)) (not (thing :right)))\n",
    "        zero\n",
    "        (not (thing :right)) (assoc thing :right :nullset)\n",
    "        (not (thing :left)) (assoc thing :left :nullset)\n",
    "        :else thing))"
   ]
  },
  {
   "cell_type": "code",
   "execution_count": 9,
   "id": "c0c9817c",
   "metadata": {},
   "outputs": [
    {
     "data": {
      "text/plain": [
       "{:left :nullset, :right :nullset}"
      ]
     },
     "execution_count": 9,
     "metadata": {},
     "output_type": "execute_result"
    }
   ],
   "source": [
    "(expand-simple-empty-set {})"
   ]
  },
  {
   "cell_type": "code",
   "execution_count": 10,
   "id": "c009e822",
   "metadata": {},
   "outputs": [
    {
     "data": {
      "text/plain": [
       "{:left 8, :right :nullset}"
      ]
     },
     "execution_count": 10,
     "metadata": {},
     "output_type": "execute_result"
    }
   ],
   "source": [
    "(expand-simple-empty-set {:left 8})"
   ]
  },
  {
   "cell_type": "code",
   "execution_count": 11,
   "id": "25b0c044",
   "metadata": {},
   "outputs": [
    {
     "data": {
      "text/plain": [
       "{:right \"asdf\", :left :nullset}"
      ]
     },
     "execution_count": 11,
     "metadata": {},
     "output_type": "execute_result"
    }
   ],
   "source": [
    "(expand-simple-empty-set {:right \"asdf\"})"
   ]
  },
  {
   "cell_type": "code",
   "execution_count": 12,
   "id": "d8915efc",
   "metadata": {},
   "outputs": [
    {
     "data": {
      "text/plain": [
       "{:left 8, :right 19}"
      ]
     },
     "execution_count": 12,
     "metadata": {},
     "output_type": "execute_result"
    }
   ],
   "source": [
    "(expand-simple-empty-set {:left 8 :right 19})"
   ]
  },
  {
   "cell_type": "markdown",
   "id": "919fbdc1",
   "metadata": {},
   "source": [
    "Let's try answering the question for just numbers of the form $\\{n|\\}$ or $\\{|n\\}$ where $n$ is an integer or when the expression is $\\{|\\}$.  First, let's detect whether it is the case:"
   ]
  },
  {
   "cell_type": "code",
   "execution_count": 13,
   "id": "13b68c5b",
   "metadata": {},
   "outputs": [
    {
     "data": {
      "text/plain": [
       "#'user/is-simple-integer-form"
      ]
     },
     "execution_count": 13,
     "metadata": {},
     "output_type": "execute_result"
    }
   ],
   "source": [
    "(defn is-simple-integer-form [exp]\n",
    "    (let [expanded (expand-simple-empty-set exp)\n",
    "          e-left (expanded :left)\n",
    "          e-right (expanded :right)\n",
    "          l-is-empty (= :nullset e-left)\n",
    "          r-is-empty (= :nullset e-right)\n",
    "          l-is-int (integer? e-left)\n",
    "          r-is-int (integer? e-right)]\n",
    "        (or (and l-is-empty r-is-int)\n",
    "            (and r-is-empty l-is-int)\n",
    "            (and l-is-empty r-is-empty))))"
   ]
  },
  {
   "cell_type": "code",
   "execution_count": 14,
   "id": "472aa206",
   "metadata": {},
   "outputs": [
    {
     "data": {
      "text/plain": [
       "true"
      ]
     },
     "execution_count": 14,
     "metadata": {},
     "output_type": "execute_result"
    }
   ],
   "source": [
    "(is-simple-integer-form zero)"
   ]
  },
  {
   "cell_type": "code",
   "execution_count": 15,
   "id": "71ed96ef",
   "metadata": {},
   "outputs": [
    {
     "data": {
      "text/plain": [
       "false"
      ]
     },
     "execution_count": 15,
     "metadata": {},
     "output_type": "execute_result"
    }
   ],
   "source": [
    "(is-simple-integer-form {:left 1 :right \"potato\"})"
   ]
  },
  {
   "cell_type": "code",
   "execution_count": 16,
   "id": "5f56ba8c",
   "metadata": {},
   "outputs": [
    {
     "data": {
      "text/plain": [
       "false"
      ]
     },
     "execution_count": 16,
     "metadata": {},
     "output_type": "execute_result"
    }
   ],
   "source": [
    "(is-simple-integer-form {:left \"asdf\" :right 3})"
   ]
  },
  {
   "cell_type": "code",
   "execution_count": 17,
   "id": "0e66a75c",
   "metadata": {},
   "outputs": [
    {
     "data": {
      "text/plain": [
       "true"
      ]
     },
     "execution_count": 17,
     "metadata": {},
     "output_type": "execute_result"
    }
   ],
   "source": [
    "(is-simple-integer-form {:left 1})"
   ]
  },
  {
   "cell_type": "code",
   "execution_count": 18,
   "id": "7127b9b4",
   "metadata": {},
   "outputs": [
    {
     "data": {
      "text/plain": [
       "true"
      ]
     },
     "execution_count": 18,
     "metadata": {},
     "output_type": "execute_result"
    }
   ],
   "source": [
    "(is-simple-integer-form {:right -100})"
   ]
  },
  {
   "cell_type": "code",
   "execution_count": 19,
   "id": "0fd8e9b4",
   "metadata": {},
   "outputs": [
    {
     "data": {
      "text/plain": [
       "false"
      ]
     },
     "execution_count": 19,
     "metadata": {},
     "output_type": "execute_result"
    }
   ],
   "source": [
    "(is-simple-integer-form {:left 0 :right 1})"
   ]
  },
  {
   "cell_type": "markdown",
   "id": "8cfe6671",
   "metadata": {},
   "source": [
    "That last one is important -- we don't want to handle fractional cases yet, or anything other than the expected form.  Now let's resolve simple integer forms to straight integers:"
   ]
  },
  {
   "cell_type": "code",
   "execution_count": 20,
   "id": "72cee679",
   "metadata": {},
   "outputs": [
    {
     "data": {
      "text/plain": [
       "#'user/basic-integer-form-to-int"
      ]
     },
     "execution_count": 20,
     "metadata": {},
     "output_type": "execute_result"
    }
   ],
   "source": [
    "(defn basic-integer-form-to-int [exp]\n",
    "    (if (is-simple-integer-form exp)\n",
    "        (let [expanded (expand-simple-empty-set exp)]\n",
    "            (cond (= zero expanded) 0\n",
    "                  (= :nullset (expanded :left)) (- (expanded :right) 1)\n",
    "                  :else (+ (expanded :left) 1)))))"
   ]
  },
  {
   "cell_type": "code",
   "execution_count": 21,
   "id": "7e9b9992",
   "metadata": {},
   "outputs": [
    {
     "data": {
      "text/plain": [
       "2"
      ]
     },
     "execution_count": 21,
     "metadata": {},
     "output_type": "execute_result"
    }
   ],
   "source": [
    "(basic-integer-form-to-int {:left 1})"
   ]
  },
  {
   "cell_type": "code",
   "execution_count": 22,
   "id": "d421d815",
   "metadata": {},
   "outputs": [
    {
     "data": {
      "text/plain": [
       "-101"
      ]
     },
     "execution_count": 22,
     "metadata": {},
     "output_type": "execute_result"
    }
   ],
   "source": [
    "(basic-integer-form-to-int {:right -100})"
   ]
  },
  {
   "cell_type": "markdown",
   "id": "53b71ab0",
   "metadata": {},
   "source": [
    "Let's try gte for simple integer forms:"
   ]
  },
  {
   "cell_type": "code",
   "execution_count": 23,
   "id": "c46cbc3a",
   "metadata": {},
   "outputs": [
    {
     "data": {
      "text/plain": [
       "#'user/gte-simple-integer-form"
      ]
     },
     "execution_count": 23,
     "metadata": {},
     "output_type": "execute_result"
    }
   ],
   "source": [
    "(defn gte-simple-integer-form [exp1 exp2]\n",
    "    (if (and (is-simple-integer-form exp1) (is-simple-integer-form exp2))\n",
    "        (let [expanded1 (expand-simple-empty-set exp1)\n",
    "              expanded2 (expand-simple-empty-set exp2)\n",
    "              intval1 (basic-integer-form-to-int exp1)\n",
    "              intval2 (basic-integer-form-to-int exp2)]\n",
    "            (>= intval1 intval2))\n",
    "        (str \"hey what is this \" exp1 \" &&& \" exp2 \" you gave me? At least one of them is not a simple integer form\")))"
   ]
  },
  {
   "cell_type": "code",
   "execution_count": 24,
   "id": "c36519fb",
   "metadata": {},
   "outputs": [
    {
     "data": {
      "text/plain": [
       "true"
      ]
     },
     "execution_count": 24,
     "metadata": {},
     "output_type": "execute_result"
    }
   ],
   "source": [
    "(gte-simple-integer-form {:left 0} zero)"
   ]
  },
  {
   "cell_type": "code",
   "execution_count": 25,
   "id": "d78cbdf2",
   "metadata": {},
   "outputs": [
    {
     "data": {
      "text/plain": [
       "false"
      ]
     },
     "execution_count": 25,
     "metadata": {},
     "output_type": "execute_result"
    }
   ],
   "source": [
    "(gte-simple-integer-form {:right -100} zero)"
   ]
  },
  {
   "cell_type": "code",
   "execution_count": 26,
   "id": "4f1a1339",
   "metadata": {},
   "outputs": [
    {
     "data": {
      "text/plain": [
       "true"
      ]
     },
     "execution_count": 26,
     "metadata": {},
     "output_type": "execute_result"
    }
   ],
   "source": [
    "(gte-simple-integer-form {:left 100} {:left 100})"
   ]
  },
  {
   "cell_type": "markdown",
   "id": "b1151bc9",
   "metadata": {},
   "source": [
    "This function is fairly boring and simple, but it has helped me to start modeling the notation in Clojure data structures.  Next perhaps I will attempt a more comprehensive format check that will include more types of expressions and recursion.\n",
    "\n",
    "Because the usual numerical notation for things like integers seems so useful still as a shorthand for surreals that would be expanded arbitrarily, I'll allow known entities to be valid formatting through keywords and Clojure integers."
   ]
  },
  {
   "cell_type": "code",
   "execution_count": 27,
   "id": "8b8b78c8",
   "metadata": {},
   "outputs": [
    {
     "data": {
      "text/plain": [
       "#'user/is-valid-base-or-seq-of-valid-base"
      ]
     },
     "execution_count": 27,
     "metadata": {},
     "output_type": "execute_result"
    }
   ],
   "source": [
    "(defn valid-base-entity [entity]\n",
    "    (or (integer? entity) (contains? #{:nullset :naturals} entity)))\n",
    "(defn is-valid-base-or-seq-of-valid-base [expr]\n",
    "    (if (seqable? expr)\n",
    "        (reduce #(and %1 %2) true (map #(is-valid-base-or-seq-of-valid-base %) expr))\n",
    "        (valid-base-entity expr)))"
   ]
  },
  {
   "cell_type": "code",
   "execution_count": 28,
   "id": "9d3f1529",
   "metadata": {},
   "outputs": [
    {
     "data": {
      "text/plain": [
       "true"
      ]
     },
     "execution_count": 28,
     "metadata": {},
     "output_type": "execute_result"
    }
   ],
   "source": [
    "(is-valid-base-or-seq-of-valid-base [:nullset])"
   ]
  },
  {
   "cell_type": "code",
   "execution_count": 29,
   "id": "fac80b8d",
   "metadata": {},
   "outputs": [
    {
     "data": {
      "text/plain": [
       "true"
      ]
     },
     "execution_count": 29,
     "metadata": {},
     "output_type": "execute_result"
    }
   ],
   "source": [
    "(is-valid-base-or-seq-of-valid-base :nullset)"
   ]
  },
  {
   "cell_type": "code",
   "execution_count": 30,
   "id": "84a3e9b6",
   "metadata": {},
   "outputs": [
    {
     "data": {
      "text/plain": [
       "true"
      ]
     },
     "execution_count": 30,
     "metadata": {},
     "output_type": "execute_result"
    }
   ],
   "source": [
    "(is-valid-base-or-seq-of-valid-base [:nullset [:nullset]])"
   ]
  },
  {
   "cell_type": "code",
   "execution_count": 31,
   "id": "21963514",
   "metadata": {},
   "outputs": [
    {
     "data": {
      "text/plain": [
       "true"
      ]
     },
     "execution_count": 31,
     "metadata": {},
     "output_type": "execute_result"
    }
   ],
   "source": [
    "(is-valid-base-or-seq-of-valid-base [1 2 3 :nullset])"
   ]
  },
  {
   "cell_type": "code",
   "execution_count": 32,
   "id": "f87e8d7d",
   "metadata": {},
   "outputs": [
    {
     "data": {
      "text/plain": [
       "false"
      ]
     },
     "execution_count": 32,
     "metadata": {},
     "output_type": "execute_result"
    }
   ],
   "source": [
    "(is-valid-base-or-seq-of-valid-base [:abc])"
   ]
  },
  {
   "cell_type": "code",
   "execution_count": 33,
   "id": "5746d7b4",
   "metadata": {},
   "outputs": [
    {
     "data": {
      "text/plain": [
       "#'user/is-valid-curly-expression"
      ]
     },
     "execution_count": 33,
     "metadata": {},
     "output_type": "execute_result"
    }
   ],
   "source": [
    "(defn side-to-seq [side]\n",
    "    (if (nil? side) []\n",
    "        (cond \n",
    "            (= clojure.lang.PersistentArrayMap (type side)) [side]\n",
    "            (seqable? side) (filter #(not (= % :nullset)) side)\n",
    "            (= side :nullset) []\n",
    "            :else [side])))\n",
    "\n",
    "(defn is-valid-curly-expression [expr]\n",
    "    (and\n",
    "     (= (type expr) clojure.lang.PersistentArrayMap)\n",
    "     (let [lraw (expr :left)\n",
    "           rraw (expr :right)\n",
    "           l-seq (side-to-seq lraw)\n",
    "           r-seq (side-to-seq rraw)]\n",
    "         (and\n",
    "          (reduce #(and %1 %2) true (map #(or (is-valid-curly-expression %) (is-valid-base-or-seq-of-valid-base %)) l-seq))\n",
    "          (reduce #(and %1 %2) true (map #(or (is-valid-curly-expression %) (is-valid-base-or-seq-of-valid-base %)) r-seq))))))"
   ]
  },
  {
   "cell_type": "code",
   "execution_count": 34,
   "id": "1ca2451c",
   "metadata": {},
   "outputs": [
    {
     "data": {
      "text/plain": [
       "true"
      ]
     },
     "execution_count": 34,
     "metadata": {},
     "output_type": "execute_result"
    }
   ],
   "source": [
    "(is-valid-curly-expression {:left 1 :right 2})"
   ]
  },
  {
   "cell_type": "code",
   "execution_count": 35,
   "id": "5278400d",
   "metadata": {},
   "outputs": [
    {
     "data": {
      "text/plain": [
       "true"
      ]
     },
     "execution_count": 35,
     "metadata": {},
     "output_type": "execute_result"
    }
   ],
   "source": [
    "(is-valid-curly-expression {:left 1})"
   ]
  },
  {
   "cell_type": "code",
   "execution_count": 36,
   "id": "de0e2b83",
   "metadata": {},
   "outputs": [
    {
     "data": {
      "text/plain": [
       "true"
      ]
     },
     "execution_count": 36,
     "metadata": {},
     "output_type": "execute_result"
    }
   ],
   "source": [
    "(is-valid-curly-expression {:left :nullset :right :nullset})"
   ]
  },
  {
   "cell_type": "code",
   "execution_count": 37,
   "id": "5f62cea8",
   "metadata": {},
   "outputs": [
    {
     "data": {
      "text/plain": [
       "true"
      ]
     },
     "execution_count": 37,
     "metadata": {},
     "output_type": "execute_result"
    }
   ],
   "source": [
    "(is-valid-curly-expression {:left -1 :right {:left :nullset :right :nullset}})"
   ]
  },
  {
   "cell_type": "code",
   "execution_count": 38,
   "id": "9bd4b5c1",
   "metadata": {},
   "outputs": [
    {
     "data": {
      "text/plain": [
       "false"
      ]
     },
     "execution_count": 38,
     "metadata": {},
     "output_type": "execute_result"
    }
   ],
   "source": [
    "(is-valid-curly-expression 1)"
   ]
  },
  {
   "cell_type": "code",
   "execution_count": 39,
   "id": "29fd6976",
   "metadata": {},
   "outputs": [
    {
     "data": {
      "text/plain": [
       "false"
      ]
     },
     "execution_count": 39,
     "metadata": {},
     "output_type": "execute_result"
    }
   ],
   "source": [
    "(is-valid-curly-expression {:left :left})"
   ]
  },
  {
   "cell_type": "code",
   "execution_count": 40,
   "id": "8219bcc3",
   "metadata": {},
   "outputs": [
    {
     "data": {
      "text/plain": [
       "true"
      ]
     },
     "execution_count": 40,
     "metadata": {},
     "output_type": "execute_result"
    }
   ],
   "source": [
    "(is-valid-curly-expression {:left [1 :nullset]})"
   ]
  },
  {
   "cell_type": "code",
   "execution_count": 41,
   "id": "1a966946",
   "metadata": {},
   "outputs": [
    {
     "data": {
      "text/plain": [
       "false"
      ]
     },
     "execution_count": 41,
     "metadata": {},
     "output_type": "execute_result"
    }
   ],
   "source": [
    "(is-valid-curly-expression {:left [1.1 :nullset]})"
   ]
  },
  {
   "cell_type": "markdown",
   "id": "6e990a9f",
   "metadata": {},
   "source": [
    "This format allows for keys other than :left and :right in an expression in case there is some use case for metadata on the expression.  For the purposes of comparisons and values, keys other than :left and :right can be ignored."
   ]
  },
  {
   "cell_type": "code",
   "execution_count": 42,
   "id": "14dc118c",
   "metadata": {},
   "outputs": [
    {
     "data": {
      "text/plain": [
       "true"
      ]
     },
     "execution_count": 42,
     "metadata": {},
     "output_type": "execute_result"
    }
   ],
   "source": [
    "(is-valid-curly-expression {:left [2 3 4] :up \"whoa\"})"
   ]
  },
  {
   "cell_type": "code",
   "execution_count": 43,
   "id": "7da02f57",
   "metadata": {},
   "outputs": [
    {
     "data": {
      "text/plain": [
       "#'user/better-gte"
      ]
     },
     "execution_count": 43,
     "metadata": {},
     "output_type": "execute_result"
    }
   ],
   "source": [
    "(defn is-null-set [side]\n",
    "    (cond (= (type side) clojure.lang.PersistentArrayMap) false\n",
    "        (not (seqable? side)) (= side :nullset)\n",
    "        :else (reduce #(and %1 %2) true (map #(= :nullset) (flatten side)))))\n",
    "\n",
    "(defn better-gte [expr1 expr2]\n",
    "    (println \"evaluating \" expr1 \" gte \" expr2)\n",
    "    (cond\n",
    "         (and (is-valid-curly-expression expr1) (is-valid-curly-expression expr2))\n",
    "         (let [e1-r (expr1 :right)\n",
    "               e2-l (expr2 :left)\n",
    "               e1-r-seq (side-to-seq e1-r)\n",
    "               e2-l-seq (side-to-seq e2-l)]\n",
    "             (and\n",
    "              (reduce #(and %1 %2) true (map #(better-gte % expr2) e2-l-seq))\n",
    "              (reduce #(and %1 %2) true (map #(better-gte % expr1) e1-r-seq))))\n",
    "          :else \"invalid expression\"))"
   ]
  },
  {
   "cell_type": "code",
   "execution_count": 44,
   "id": "6318e306",
   "metadata": {},
   "outputs": [
    {
     "name": "stdout",
     "output_type": "stream",
     "text": [
      "evaluating  {:left {:left :nullset, :right :nullset}, :right :nullset}  gte  {:left :nullset, :right :nullset}\n"
     ]
    },
    {
     "data": {
      "text/plain": [
       "true"
      ]
     },
     "execution_count": 44,
     "metadata": {},
     "output_type": "execute_result"
    }
   ],
   "source": [
    "(better-gte one zero)"
   ]
  },
  {
   "cell_type": "code",
   "execution_count": null,
   "id": "bb79d031",
   "metadata": {},
   "outputs": [],
   "source": [
    "(better-gte zero one) ;; problematic / wip"
   ]
  },
  {
   "cell_type": "code",
   "execution_count": 46,
   "id": "43d16459",
   "metadata": {},
   "outputs": [
    {
     "data": {
      "text/plain": [
       "#'user/half"
      ]
     },
     "execution_count": 46,
     "metadata": {},
     "output_type": "execute_result"
    }
   ],
   "source": [
    "(def half {:left zero :right one})"
   ]
  }
 ],
 "metadata": {
  "kernelspec": {
   "display_name": "Clojure (clojupyter-0.4.335)",
   "language": "clojure",
   "name": "clojupyter-0.4.335"
  },
  "language_info": {
   "file_extension": ".clj",
   "mimetype": "text/x-clojure",
   "name": "clojure",
   "version": "1.11.3"
  }
 },
 "nbformat": 4,
 "nbformat_minor": 5
}
