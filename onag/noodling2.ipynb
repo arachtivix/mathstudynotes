{
 "cells": [
  {
   "cell_type": "code",
   "execution_count": 1,
   "id": "1fd16cf2",
   "metadata": {},
   "outputs": [
    {
     "data": {
      "text/plain": [
       "#'user/gte-in-words"
      ]
     },
     "execution_count": 1,
     "metadata": {},
     "output_type": "execute_result"
    }
   ],
   "source": [
    "(defn gte-in-words [exp1 exp2]\n",
    "    (str \"is every element in \" (exp1 :right) \" greater than or equal to \" exp2\n",
    "         \" and is \" exp1 \" greater than or equal to every element in \" (exp2 :left)))"
   ]
  },
  {
   "cell_type": "code",
   "execution_count": 2,
   "id": "584e6dcb",
   "metadata": {},
   "outputs": [
    {
     "data": {
      "text/plain": [
       "#'user/zero"
      ]
     },
     "execution_count": 2,
     "metadata": {},
     "output_type": "execute_result"
    }
   ],
   "source": [
    "(def zero {:left :nullset :right :nullset})"
   ]
  },
  {
   "cell_type": "code",
   "execution_count": 3,
   "id": "82d9a5ce",
   "metadata": {},
   "outputs": [
    {
     "data": {
      "text/plain": [
       "\"is every element in :nullset greater than or equal to {:left :nullset, :right :nullset} and is {:left :nullset, :right :nullset} greater than or equal to every element in :nullset\""
      ]
     },
     "execution_count": 3,
     "metadata": {},
     "output_type": "execute_result"
    }
   ],
   "source": [
    "(gte-in-words zero zero)"
   ]
  },
  {
   "cell_type": "code",
   "execution_count": 4,
   "id": "0e68bc38",
   "metadata": {},
   "outputs": [
    {
     "data": {
      "text/plain": [
       "#'user/gte-vacuously-true"
      ]
     },
     "execution_count": 4,
     "metadata": {},
     "output_type": "execute_result"
    }
   ],
   "source": [
    "(defn gte-vacuously-true [exp1 exp2]\n",
    "    (let [exp1-is-empty (= :nullset (exp1 :left))\n",
    "          exp2-is-empty (= :nullset (exp2 :right))]\n",
    "        (and exp1-is-empty exp2-is-empty)))"
   ]
  },
  {
   "cell_type": "markdown",
   "id": "5f5db1f8",
   "metadata": {},
   "source": [
    "test case 1"
   ]
  },
  {
   "cell_type": "code",
   "execution_count": 5,
   "id": "a73357ed",
   "metadata": {},
   "outputs": [
    {
     "data": {
      "text/plain": [
       "true"
      ]
     },
     "execution_count": 5,
     "metadata": {},
     "output_type": "execute_result"
    }
   ],
   "source": [
    "(gte-vacuously-true zero zero)"
   ]
  },
  {
   "cell_type": "code",
   "execution_count": 6,
   "id": "1b09654e",
   "metadata": {},
   "outputs": [
    {
     "data": {
      "text/plain": [
       "#'user/one"
      ]
     },
     "execution_count": 6,
     "metadata": {},
     "output_type": "execute_result"
    }
   ],
   "source": [
    "(def one {:left zero :right :nullset})"
   ]
  },
  {
   "cell_type": "markdown",
   "id": "1d314eb1",
   "metadata": {},
   "source": [
    "next test case"
   ]
  },
  {
   "cell_type": "code",
   "execution_count": 7,
   "id": "dab2c264",
   "metadata": {},
   "outputs": [
    {
     "data": {
      "text/plain": [
       "false"
      ]
     },
     "execution_count": 7,
     "metadata": {},
     "output_type": "execute_result"
    }
   ],
   "source": [
    "(gte-vacuously-true one zero)"
   ]
  },
  {
   "cell_type": "markdown",
   "id": "5b0d84ba",
   "metadata": {},
   "source": [
    "Let's make a shorthand that can easily expand left and right when using the empty set:"
   ]
  },
  {
   "cell_type": "code",
   "execution_count": 8,
   "id": "6643bcac",
   "metadata": {},
   "outputs": [
    {
     "data": {
      "text/plain": [
       "#'user/expand-simple-empty-set"
      ]
     },
     "execution_count": 8,
     "metadata": {},
     "output_type": "execute_result"
    }
   ],
   "source": [
    "(defn expand-simple-empty-set [thing]\n",
    "    (cond \n",
    "        (and (not (thing :left)) (not (thing :right)))\n",
    "        zero\n",
    "        (not (thing :right)) (assoc thing :right :nullset)\n",
    "        (not (thing :left)) (assoc thing :left :nullset)\n",
    "        :else thing))"
   ]
  },
  {
   "cell_type": "code",
   "execution_count": 9,
   "id": "c0c9817c",
   "metadata": {},
   "outputs": [
    {
     "data": {
      "text/plain": [
       "{:left :nullset, :right :nullset}"
      ]
     },
     "execution_count": 9,
     "metadata": {},
     "output_type": "execute_result"
    }
   ],
   "source": [
    "(expand-simple-empty-set {})"
   ]
  },
  {
   "cell_type": "code",
   "execution_count": 10,
   "id": "c009e822",
   "metadata": {},
   "outputs": [
    {
     "data": {
      "text/plain": [
       "{:left 8, :right :nullset}"
      ]
     },
     "execution_count": 10,
     "metadata": {},
     "output_type": "execute_result"
    }
   ],
   "source": [
    "(expand-simple-empty-set {:left 8})"
   ]
  },
  {
   "cell_type": "code",
   "execution_count": 11,
   "id": "25b0c044",
   "metadata": {},
   "outputs": [
    {
     "data": {
      "text/plain": [
       "{:right \"asdf\", :left :nullset}"
      ]
     },
     "execution_count": 11,
     "metadata": {},
     "output_type": "execute_result"
    }
   ],
   "source": [
    "(expand-simple-empty-set {:right \"asdf\"})"
   ]
  },
  {
   "cell_type": "code",
   "execution_count": 12,
   "id": "d8915efc",
   "metadata": {},
   "outputs": [
    {
     "data": {
      "text/plain": [
       "{:left 8, :right 19}"
      ]
     },
     "execution_count": 12,
     "metadata": {},
     "output_type": "execute_result"
    }
   ],
   "source": [
    "(expand-simple-empty-set {:left 8 :right 19})"
   ]
  },
  {
   "cell_type": "markdown",
   "id": "919fbdc1",
   "metadata": {},
   "source": [
    "Let's try answering the question for just numbers of the form $\\{n|\\}$ or $\\{|n\\}$ where $n$ is an integer or when the expression is $\\{|\\}$.  First, let's detect whether it is the case:"
   ]
  },
  {
   "cell_type": "code",
   "execution_count": 13,
   "id": "13b68c5b",
   "metadata": {},
   "outputs": [
    {
     "data": {
      "text/plain": [
       "#'user/is-simple-integer-form"
      ]
     },
     "execution_count": 13,
     "metadata": {},
     "output_type": "execute_result"
    }
   ],
   "source": [
    "(defn is-simple-integer-form [exp]\n",
    "    (let [expanded (expand-simple-empty-set exp)\n",
    "          e-left (expanded :left)\n",
    "          e-right (expanded :right)\n",
    "          l-is-empty (= :nullset e-left)\n",
    "          r-is-empty (= :nullset e-right)\n",
    "          l-is-int (integer? e-left)\n",
    "          r-is-int (integer? e-right)]\n",
    "        (or (and l-is-empty r-is-int)\n",
    "            (and r-is-empty l-is-int)\n",
    "            (and l-is-empty r-is-empty))))"
   ]
  },
  {
   "cell_type": "code",
   "execution_count": 14,
   "id": "472aa206",
   "metadata": {},
   "outputs": [
    {
     "data": {
      "text/plain": [
       "true"
      ]
     },
     "execution_count": 14,
     "metadata": {},
     "output_type": "execute_result"
    }
   ],
   "source": [
    "(is-simple-integer-form zero)"
   ]
  },
  {
   "cell_type": "code",
   "execution_count": 15,
   "id": "71ed96ef",
   "metadata": {},
   "outputs": [
    {
     "data": {
      "text/plain": [
       "false"
      ]
     },
     "execution_count": 15,
     "metadata": {},
     "output_type": "execute_result"
    }
   ],
   "source": [
    "(is-simple-integer-form {:left 1 :right \"potato\"})"
   ]
  },
  {
   "cell_type": "code",
   "execution_count": 16,
   "id": "5f56ba8c",
   "metadata": {},
   "outputs": [
    {
     "data": {
      "text/plain": [
       "false"
      ]
     },
     "execution_count": 16,
     "metadata": {},
     "output_type": "execute_result"
    }
   ],
   "source": [
    "(is-simple-integer-form {:left \"asdf\" :right 3})"
   ]
  },
  {
   "cell_type": "code",
   "execution_count": 17,
   "id": "0e66a75c",
   "metadata": {},
   "outputs": [
    {
     "data": {
      "text/plain": [
       "true"
      ]
     },
     "execution_count": 17,
     "metadata": {},
     "output_type": "execute_result"
    }
   ],
   "source": [
    "(is-simple-integer-form {:left 1})"
   ]
  },
  {
   "cell_type": "code",
   "execution_count": 18,
   "id": "7127b9b4",
   "metadata": {},
   "outputs": [
    {
     "data": {
      "text/plain": [
       "true"
      ]
     },
     "execution_count": 18,
     "metadata": {},
     "output_type": "execute_result"
    }
   ],
   "source": [
    "(is-simple-integer-form {:right -100})"
   ]
  },
  {
   "cell_type": "code",
   "execution_count": 19,
   "id": "0fd8e9b4",
   "metadata": {},
   "outputs": [
    {
     "data": {
      "text/plain": [
       "false"
      ]
     },
     "execution_count": 19,
     "metadata": {},
     "output_type": "execute_result"
    }
   ],
   "source": [
    "(is-simple-integer-form {:left 0 :right 1})"
   ]
  },
  {
   "cell_type": "markdown",
   "id": "8cfe6671",
   "metadata": {},
   "source": [
    "That last one is important -- we don't want to handle fractional cases yet, or anything other than the expected form.  Now let's resolve simple integer forms to straight integers:"
   ]
  },
  {
   "cell_type": "code",
   "execution_count": 20,
   "id": "72cee679",
   "metadata": {},
   "outputs": [
    {
     "data": {
      "text/plain": [
       "#'user/basic-integer-form-to-int"
      ]
     },
     "execution_count": 20,
     "metadata": {},
     "output_type": "execute_result"
    }
   ],
   "source": [
    "(defn basic-integer-form-to-int [exp]\n",
    "    (if (is-simple-integer-form exp)\n",
    "        (let [expanded (expand-simple-empty-set exp)]\n",
    "            (cond (= zero expanded) 0\n",
    "                  (= :nullset (expanded :left)) (- (expanded :right) 1)\n",
    "                  :else (+ (expanded :left) 1)))))"
   ]
  },
  {
   "cell_type": "code",
   "execution_count": 21,
   "id": "7e9b9992",
   "metadata": {},
   "outputs": [
    {
     "data": {
      "text/plain": [
       "2"
      ]
     },
     "execution_count": 21,
     "metadata": {},
     "output_type": "execute_result"
    }
   ],
   "source": [
    "(basic-integer-form-to-int {:left 1})"
   ]
  },
  {
   "cell_type": "code",
   "execution_count": 22,
   "id": "d421d815",
   "metadata": {},
   "outputs": [
    {
     "data": {
      "text/plain": [
       "-101"
      ]
     },
     "execution_count": 22,
     "metadata": {},
     "output_type": "execute_result"
    }
   ],
   "source": [
    "(basic-integer-form-to-int {:right -100})"
   ]
  },
  {
   "cell_type": "markdown",
   "id": "53b71ab0",
   "metadata": {},
   "source": [
    "Let's try gte for simple integer forms:"
   ]
  },
  {
   "cell_type": "code",
   "execution_count": 27,
   "id": "c46cbc3a",
   "metadata": {},
   "outputs": [
    {
     "data": {
      "text/plain": [
       "#'user/gte-simple-integer-form"
      ]
     },
     "execution_count": 27,
     "metadata": {},
     "output_type": "execute_result"
    }
   ],
   "source": [
    "(defn gte-simple-integer-form [exp1 exp2]\n",
    "    (if (and (is-simple-integer-form exp1) (is-simple-integer-form exp2))\n",
    "        (let [expanded1 (expand-simple-empty-set exp1)\n",
    "              expanded2 (expand-simple-empty-set exp2)\n",
    "              intval1 (basic-integer-form-to-int exp1)\n",
    "              intval2 (basic-integer-form-to-int exp2)]\n",
    "            (>= intval1 intval2))\n",
    "        (str \"hey what is this \" exp1 \" &&& \" exp2 \" you gave me? At least one of them is not a simple integer form\")))"
   ]
  },
  {
   "cell_type": "code",
   "execution_count": 28,
   "id": "c36519fb",
   "metadata": {},
   "outputs": [
    {
     "data": {
      "text/plain": [
       "true"
      ]
     },
     "execution_count": 28,
     "metadata": {},
     "output_type": "execute_result"
    }
   ],
   "source": [
    "(gte-simple-integer-form {:left 0} zero)"
   ]
  },
  {
   "cell_type": "code",
   "execution_count": 29,
   "id": "d78cbdf2",
   "metadata": {},
   "outputs": [
    {
     "data": {
      "text/plain": [
       "false"
      ]
     },
     "execution_count": 29,
     "metadata": {},
     "output_type": "execute_result"
    }
   ],
   "source": [
    "(gte-simple-integer-form {:right -100} zero)"
   ]
  },
  {
   "cell_type": "code",
   "execution_count": 31,
   "id": "4f1a1339",
   "metadata": {},
   "outputs": [
    {
     "data": {
      "text/plain": [
       "true"
      ]
     },
     "execution_count": 31,
     "metadata": {},
     "output_type": "execute_result"
    }
   ],
   "source": [
    "(gte-simple-integer-form {:left 100} {:left 100})"
   ]
  },
  {
   "cell_type": "markdown",
   "id": "b1151bc9",
   "metadata": {},
   "source": [
    "This function is fairly boring and simple, but it has helped me to start modeling the notation in Clojure data structures.  Next perhaps I will attempt a more comprehensive format check that will include more types of expressions and recursion."
   ]
  },
  {
   "cell_type": "code",
   "execution_count": null,
   "id": "e7fa2ee7",
   "metadata": {},
   "outputs": [],
   "source": []
  }
 ],
 "metadata": {
  "kernelspec": {
   "display_name": "Clojure (clojupyter-0.4.335)",
   "language": "clojure",
   "name": "clojupyter-0.4.335"
  },
  "language_info": {
   "file_extension": ".clj",
   "mimetype": "text/x-clojure",
   "name": "clojure",
   "version": "1.11.3"
  }
 },
 "nbformat": 4,
 "nbformat_minor": 5
}
